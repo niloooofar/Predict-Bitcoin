{
 "cells": [
  {
   "cell_type": "markdown",
   "id": "broad-algorithm",
   "metadata": {
    "id": "I4O0wa-iX_vR"
   },
   "source": [
    "# Multivariate Single Target multi Step Timeseries"
   ]
  },
  {
   "cell_type": "markdown",
   "id": "cutting-duncan",
   "metadata": {},
   "source": [
    "We want to predict next 3 (in 4 hour time frame) close price of bitcoin based on multiple variate. We get BTC data from https://twelvedata.com api and do a time series analysis with different deep learning models. Finally we compare the result of different models on our data to figure out which model did the best on predicting the close price."
   ]
  },
  {
   "cell_type": "markdown",
   "id": "angry-disease",
   "metadata": {
    "id": "r7y4z4mLBIVW"
   },
   "source": [
    "## import packages"
   ]
  },
  {
   "cell_type": "code",
   "execution_count": 1,
   "id": "blind-trail",
   "metadata": {
    "id": "jXQTBKz2BLr0"
   },
   "outputs": [],
   "source": [
    "import pandas as pd\n",
    "import numpy as np\n",
    "import matplotlib.pyplot as plt"
   ]
  },
  {
   "cell_type": "markdown",
   "id": "brazilian-necessity",
   "metadata": {
    "id": "UPkl8gVpLztB"
   },
   "source": [
    "## import data from API"
   ]
  },
  {
   "cell_type": "code",
   "execution_count": 1,
   "id": "sitting-facial",
   "metadata": {
    "colab": {
     "base_uri": "https://localhost:8080/"
    },
    "id": "tFbEYN0ymNDT",
    "outputId": "8cab80a2-6e31-4371-c783-3f8202e17892"
   },
   "outputs": [
    {
     "name": "stdout",
     "output_type": "stream",
     "text": [
      "Requirement already satisfied: twelvedata in c:\\users\\niloo\\appdata\\local\\programs\\python\\python39\\lib\\site-packages (1.2.8)\n",
      "Requirement already satisfied: requests<3,>=2.22 in c:\\users\\niloo\\appdata\\local\\programs\\python\\python39\\lib\\site-packages (from twelvedata) (2.25.1)\n",
      "Requirement already satisfied: pytimeparse<2,>=1.1 in c:\\users\\niloo\\appdata\\local\\programs\\python\\python39\\lib\\site-packages (from twelvedata) (1.1.8)\n",
      "Requirement already satisfied: chardet<5,>=3.0.2 in c:\\users\\niloo\\appdata\\local\\programs\\python\\python39\\lib\\site-packages (from requests<3,>=2.22->twelvedata) (4.0.0)\n",
      "Requirement already satisfied: idna<3,>=2.5 in c:\\users\\niloo\\appdata\\local\\programs\\python\\python39\\lib\\site-packages (from requests<3,>=2.22->twelvedata) (2.10)\n",
      "Requirement already satisfied: certifi>=2017.4.17 in c:\\users\\niloo\\appdata\\local\\programs\\python\\python39\\lib\\site-packages (from requests<3,>=2.22->twelvedata) (2022.6.15)\n",
      "Requirement already satisfied: urllib3<1.27,>=1.21.1 in c:\\users\\niloo\\appdata\\local\\programs\\python\\python39\\lib\\site-packages (from requests<3,>=2.22->twelvedata) (1.26.3)\n",
      "Note: you may need to restart the kernel to use updated packages.\n"
     ]
    }
   ],
   "source": [
    "pip install twelvedata"
   ]
  },
  {
   "cell_type": "code",
   "execution_count": 3,
   "id": "knowing-madagascar",
   "metadata": {
    "colab": {
     "base_uri": "https://localhost:8080/",
     "height": 450
    },
    "id": "Y5hs5949j3yU",
    "outputId": "a58697e9-9325-49b6-d9f3-e7f1e9edc975"
   },
   "outputs": [
    {
     "data": {
      "text/html": [
       "<div>\n",
       "<style scoped>\n",
       "    .dataframe tbody tr th:only-of-type {\n",
       "        vertical-align: middle;\n",
       "    }\n",
       "\n",
       "    .dataframe tbody tr th {\n",
       "        vertical-align: top;\n",
       "    }\n",
       "\n",
       "    .dataframe thead th {\n",
       "        text-align: right;\n",
       "    }\n",
       "</style>\n",
       "<table border=\"1\" class=\"dataframe\">\n",
       "  <thead>\n",
       "    <tr style=\"text-align: right;\">\n",
       "      <th></th>\n",
       "      <th>open</th>\n",
       "      <th>high</th>\n",
       "      <th>low</th>\n",
       "      <th>close</th>\n",
       "    </tr>\n",
       "    <tr>\n",
       "      <th>datetime</th>\n",
       "      <th></th>\n",
       "      <th></th>\n",
       "      <th></th>\n",
       "      <th></th>\n",
       "    </tr>\n",
       "  </thead>\n",
       "  <tbody>\n",
       "    <tr>\n",
       "      <th>2020-05-17 20:00:00</th>\n",
       "      <td>9770.71973</td>\n",
       "      <td>9793.91992</td>\n",
       "      <td>9630.00977</td>\n",
       "      <td>9680.00000</td>\n",
       "    </tr>\n",
       "    <tr>\n",
       "      <th>2020-05-18 00:00:00</th>\n",
       "      <td>9704.62988</td>\n",
       "      <td>9950.00000</td>\n",
       "      <td>9704.62988</td>\n",
       "      <td>9861.04980</td>\n",
       "    </tr>\n",
       "    <tr>\n",
       "      <th>2020-05-18 04:00:00</th>\n",
       "      <td>9861.13965</td>\n",
       "      <td>9905.00000</td>\n",
       "      <td>9746.08008</td>\n",
       "      <td>9775.45020</td>\n",
       "    </tr>\n",
       "    <tr>\n",
       "      <th>2020-05-18 08:00:00</th>\n",
       "      <td>9781.05957</td>\n",
       "      <td>9793.59961</td>\n",
       "      <td>9529.12988</td>\n",
       "      <td>9640.00000</td>\n",
       "    </tr>\n",
       "    <tr>\n",
       "      <th>2020-05-18 12:00:00</th>\n",
       "      <td>9630.48047</td>\n",
       "      <td>9730.74023</td>\n",
       "      <td>9573.33008</td>\n",
       "      <td>9665.00000</td>\n",
       "    </tr>\n",
       "    <tr>\n",
       "      <th>...</th>\n",
       "      <td>...</td>\n",
       "      <td>...</td>\n",
       "      <td>...</td>\n",
       "      <td>...</td>\n",
       "    </tr>\n",
       "    <tr>\n",
       "      <th>2022-08-29 16:00:00</th>\n",
       "      <td>20261.53906</td>\n",
       "      <td>20395.01953</td>\n",
       "      <td>20083.93945</td>\n",
       "      <td>20096.46094</td>\n",
       "    </tr>\n",
       "    <tr>\n",
       "      <th>2022-08-29 20:00:00</th>\n",
       "      <td>20101.61914</td>\n",
       "      <td>20345.97070</td>\n",
       "      <td>20083.30078</td>\n",
       "      <td>20295.58984</td>\n",
       "    </tr>\n",
       "    <tr>\n",
       "      <th>2022-08-30 00:00:00</th>\n",
       "      <td>20284.85938</td>\n",
       "      <td>20290.00000</td>\n",
       "      <td>20120.30078</td>\n",
       "      <td>20267.27930</td>\n",
       "    </tr>\n",
       "    <tr>\n",
       "      <th>2022-08-30 04:00:00</th>\n",
       "      <td>20271.58008</td>\n",
       "      <td>20558.39062</td>\n",
       "      <td>20260.19922</td>\n",
       "      <td>20437.44922</td>\n",
       "    </tr>\n",
       "    <tr>\n",
       "      <th>2022-08-30 08:00:00</th>\n",
       "      <td>20439.85938</td>\n",
       "      <td>20501.93945</td>\n",
       "      <td>20427.06055</td>\n",
       "      <td>20430.98047</td>\n",
       "    </tr>\n",
       "  </tbody>\n",
       "</table>\n",
       "<p>5000 rows × 4 columns</p>\n",
       "</div>"
      ],
      "text/plain": [
       "                            open         high          low        close\n",
       "datetime                                                               \n",
       "2020-05-17 20:00:00   9770.71973   9793.91992   9630.00977   9680.00000\n",
       "2020-05-18 00:00:00   9704.62988   9950.00000   9704.62988   9861.04980\n",
       "2020-05-18 04:00:00   9861.13965   9905.00000   9746.08008   9775.45020\n",
       "2020-05-18 08:00:00   9781.05957   9793.59961   9529.12988   9640.00000\n",
       "2020-05-18 12:00:00   9630.48047   9730.74023   9573.33008   9665.00000\n",
       "...                          ...          ...          ...          ...\n",
       "2022-08-29 16:00:00  20261.53906  20395.01953  20083.93945  20096.46094\n",
       "2022-08-29 20:00:00  20101.61914  20345.97070  20083.30078  20295.58984\n",
       "2022-08-30 00:00:00  20284.85938  20290.00000  20120.30078  20267.27930\n",
       "2022-08-30 04:00:00  20271.58008  20558.39062  20260.19922  20437.44922\n",
       "2022-08-30 08:00:00  20439.85938  20501.93945  20427.06055  20430.98047\n",
       "\n",
       "[5000 rows x 4 columns]"
      ]
     },
     "execution_count": 3,
     "metadata": {},
     "output_type": "execute_result"
    }
   ],
   "source": [
    "import requests\n",
    "def get_crypto_price(symbol, interval,n_interval):\n",
    "    api_key = 'put your api key here!'\n",
    "    api_url = f'https://api.twelvedata.com/time_series?symbol={symbol}&exchange=binance&interval={interval}&outputsize={n_interval}&apikey={api_key}'\n",
    "    raw = requests.get(api_url).json()\n",
    "    df = pd.DataFrame(raw['values']).set_index('datetime')\n",
    "    df = df.iloc[::-1]\n",
    "    return df\n",
    "\n",
    "dataset = get_crypto_price('BTC/USD', '4h',5000)\n",
    "dataset"
   ]
  },
  {
   "cell_type": "markdown",
   "id": "numerical-destination",
   "metadata": {
    "id": "5EI8U5DNMAFg"
   },
   "source": [
    "## check and fill the missvalues"
   ]
  },
  {
   "cell_type": "code",
   "execution_count": 4,
   "id": "impaired-glass",
   "metadata": {
    "colab": {
     "base_uri": "https://localhost:8080/"
    },
    "id": "bX32dvJiLo3T",
    "outputId": "a46bc466-ec18-46dc-b2de-55a3db066e2e"
   },
   "outputs": [
    {
     "data": {
      "text/plain": [
       "open     0\n",
       "high     0\n",
       "low      0\n",
       "close    0\n",
       "dtype: int64"
      ]
     },
     "execution_count": 4,
     "metadata": {},
     "output_type": "execute_result"
    }
   ],
   "source": [
    "dataset.isnull().sum()"
   ]
  },
  {
   "cell_type": "markdown",
   "id": "remarkable-librarian",
   "metadata": {
    "id": "M5FmPLNnMKBG"
   },
   "source": [
    "## plot the multivariate timeseries"
   ]
  },
  {
   "cell_type": "code",
   "execution_count": 5,
   "id": "alien-introduction",
   "metadata": {
    "colab": {
     "base_uri": "https://localhost:8080/"
    },
    "id": "o2LpVR7_3y_D",
    "outputId": "113cd091-97e3-460e-a64e-d5ac552c5861"
   },
   "outputs": [
    {
     "name": "stdout",
     "output_type": "stream",
     "text": [
      "<class 'pandas.core.frame.DataFrame'>\n",
      "Index: 5000 entries, 2020-05-17 20:00:00 to 2022-08-30 08:00:00\n",
      "Data columns (total 4 columns):\n",
      " #   Column  Non-Null Count  Dtype \n",
      "---  ------  --------------  ----- \n",
      " 0   open    5000 non-null   object\n",
      " 1   high    5000 non-null   object\n",
      " 2   low     5000 non-null   object\n",
      " 3   close   5000 non-null   object\n",
      "dtypes: object(4)\n",
      "memory usage: 195.3+ KB\n"
     ]
    }
   ],
   "source": [
    "dataset.info()"
   ]
  },
  {
   "cell_type": "code",
   "execution_count": 6,
   "id": "worth-picking",
   "metadata": {
    "id": "qTXliHrb4hCd"
   },
   "outputs": [],
   "source": [
    "dataset=dataset.iloc[:,:].astype(float)"
   ]
  },
  {
   "cell_type": "code",
   "execution_count": 7,
   "id": "conceptual-sleeve",
   "metadata": {
    "colab": {
     "background_save": true,
     "base_uri": "https://localhost:8080/"
    },
    "id": "BiC-Y7Sljxvf",
    "outputId": "c0c9e735-8ec0-42e2-f7a5-f4ddf5c9c8f0"
   },
   "outputs": [
    {
     "name": "stdout",
     "output_type": "stream",
     "text": [
      "<class 'pandas.core.frame.DataFrame'>\n",
      "Index: 5000 entries, 2020-05-17 20:00:00 to 2022-08-30 08:00:00\n",
      "Data columns (total 4 columns):\n",
      " #   Column  Non-Null Count  Dtype  \n",
      "---  ------  --------------  -----  \n",
      " 0   open    5000 non-null   float64\n",
      " 1   high    5000 non-null   float64\n",
      " 2   low     5000 non-null   float64\n",
      " 3   close   5000 non-null   float64\n",
      "dtypes: float64(4)\n",
      "memory usage: 195.3+ KB\n"
     ]
    }
   ],
   "source": [
    "dataset.info()"
   ]
  },
  {
   "cell_type": "code",
   "execution_count": 8,
   "id": "little-collective",
   "metadata": {
    "colab": {
     "base_uri": "https://localhost:8080/",
     "height": 612
    },
    "id": "Tl3XHvZzAu2A",
    "outputId": "83f441c9-1fd5-4e32-f94f-9c458f091af4"
   },
   "outputs": [
    {
     "data": {
      "text/plain": [
       "array([[<AxesSubplot:title={'center':'open'}>,\n",
       "        <AxesSubplot:title={'center':'high'}>],\n",
       "       [<AxesSubplot:title={'center':'low'}>,\n",
       "        <AxesSubplot:title={'center':'close'}>]], dtype=object)"
      ]
     },
     "execution_count": 8,
     "metadata": {},
     "output_type": "execute_result"
    },
    {
     "data": {
      "image/png": "[encoded data removed]",
      "text/plain": [
       "<Figure size 1800x720 with 4 Axes>"
      ]
     },
     "metadata": {
      "needs_background": "light"
     },
     "output_type": "display_data"
    }
   ],
   "source": [
    "dataset.hist(figsize=(25,10))"
   ]
  },
  {
   "cell_type": "code",
   "execution_count": 9,
   "id": "black-prior",
   "metadata": {
    "colab": {
     "base_uri": "https://localhost:8080/",
     "height": 933
    },
    "id": "vQNTw6N_Au72",
    "outputId": "5d7dda59-81b8-455b-e908-14387b926723"
   },
   "outputs": [
    {
     "data": {
      "text/plain": [
       "array([<AxesSubplot:xlabel='datetime'>, <AxesSubplot:xlabel='datetime'>,\n",
       "       <AxesSubplot:xlabel='datetime'>, <AxesSubplot:xlabel='datetime'>],\n",
       "      dtype=object)"
      ]
     },
     "execution_count": 9,
     "metadata": {},
     "output_type": "execute_result"
    },
    {
     "data": {
      "image/png": "[encoded data removed]",
      "text/plain": [
       "<Figure size 1080x1080 with 4 Axes>"
      ]
     },
     "metadata": {
      "needs_background": "light"
     },
     "output_type": "display_data"
    }
   ],
   "source": [
    "dataset.plot(subplots=True,figsize=(15,15))"
   ]
  },
  {
   "cell_type": "markdown",
   "id": "thrown-vintage",
   "metadata": {
    "id": "QxUoK4-q5XAy"
   },
   "source": [
    "## choose the optimal lag observation"
   ]
  },
  {
   "cell_type": "code",
   "execution_count": 10,
   "id": "consistent-examination",
   "metadata": {
    "colab": {
     "base_uri": "https://localhost:8080/"
    },
    "id": "x-54pRxYr49M",
    "outputId": "9c2098a7-282d-41cf-8da3-f820a61d62de"
   },
   "outputs": [
    {
     "name": "stdout",
     "output_type": "stream",
     "text": [
      "Requirement already satisfied: statsmodels in c:\\users\\niloo\\appdata\\local\\programs\\python\\python39\\lib\\site-packages (0.12.2)\n",
      "Requirement already satisfied: scipy>=1.1 in c:\\users\\niloo\\appdata\\local\\programs\\python\\python39\\lib\\site-packages (from statsmodels) (1.7.1)\n",
      "Requirement already satisfied: patsy>=0.5 in c:\\users\\niloo\\appdata\\local\\programs\\python\\python39\\lib\\site-packages (from statsmodels) (0.5.1)\n",
      "Requirement already satisfied: numpy>=1.15 in c:\\users\\niloo\\appdata\\local\\programs\\python\\python39\\lib\\site-packages (from statsmodels) (1.21.0)\n",
      "Requirement already satisfied: pandas>=0.21 in c:\\users\\niloo\\appdata\\local\\programs\\python\\python39\\lib\\site-packages (from statsmodels) (1.3.1)\n",
      "Requirement already satisfied: pytz>=2017.3 in c:\\users\\niloo\\appdata\\local\\programs\\python\\python39\\lib\\site-packages (from pandas>=0.21->statsmodels) (2021.1)\n",
      "Requirement already satisfied: python-dateutil>=2.7.3 in c:\\users\\niloo\\appdata\\local\\programs\\python\\python39\\lib\\site-packages (from pandas>=0.21->statsmodels) (2.8.1)\n",
      "Requirement already satisfied: six in c:\\users\\niloo\\appdata\\local\\programs\\python\\python39\\lib\\site-packages (from patsy>=0.5->statsmodels) (1.15.0)\n",
      "Note: you may need to restart the kernel to use updated packages.\n"
     ]
    }
   ],
   "source": [
    "pip install statsmodels"
   ]
  },
  {
   "cell_type": "code",
   "execution_count": 11,
   "id": "beautiful-vegetation",
   "metadata": {
    "colab": {
     "base_uri": "https://localhost:8080/"
    },
    "id": "DqLBcp_C5luh",
    "outputId": "a123131e-cc9a-4a95-892b-504ace9629e4"
   },
   "outputs": [],
   "source": [
    "import statsmodels.tsa.stattools as sts"
   ]
  },
  {
   "cell_type": "code",
   "execution_count": 12,
   "id": "dependent-australia",
   "metadata": {
    "id": "YRyHRPPC6FF4"
   },
   "outputs": [],
   "source": [
    "dataset=pd.DataFrame(dataset)"
   ]
  },
  {
   "cell_type": "code",
   "execution_count": 13,
   "id": "interior-format",
   "metadata": {
    "colab": {
     "base_uri": "https://localhost:8080/"
    },
    "id": "kmBj8jCr5qnI",
    "outputId": "0f63b699-ed84-4cdd-bb2b-474a5e5459d9"
   },
   "outputs": [
    {
     "data": {
      "text/plain": [
       "(-1.5799716605379857,\n",
       " 0.49364610458285185,\n",
       " 26,\n",
       " 4973,\n",
       " {'1%': -3.431665640184842,\n",
       "  '5%': -2.8621213700013244,\n",
       "  '10%': -2.567079464076049},\n",
       " 77835.23416574199)"
      ]
     },
     "execution_count": 13,
     "metadata": {},
     "output_type": "execute_result"
    }
   ],
   "source": [
    "sts.adfuller(dataset.close)"
   ]
  },
  {
   "cell_type": "code",
   "execution_count": 14,
   "id": "adjusted-holly",
   "metadata": {
    "id": "7mQUVT-d5I2l"
   },
   "outputs": [],
   "source": [
    "df_diff=dataset.close.diff().dropna()"
   ]
  },
  {
   "cell_type": "code",
   "execution_count": 15,
   "id": "adequate-sleeve",
   "metadata": {
    "id": "-SHnrqMl6VSO"
   },
   "outputs": [],
   "source": [
    "from statsmodels.graphics.tsaplots import plot_acf "
   ]
  },
  {
   "cell_type": "code",
   "execution_count": 16,
   "id": "accurate-berlin",
   "metadata": {
    "colab": {
     "base_uri": "https://localhost:8080/",
     "height": 281
    },
    "id": "vACQjh6l6c_z",
    "outputId": "fc4da583-ecf8-4598-b090-34d7f4df55d6"
   },
   "outputs": [
    {
     "data": {
      "image/png": "[encoded data removed]",
      "text/plain": [
       "<Figure size 432x288 with 1 Axes>"
      ]
     },
     "metadata": {
      "needs_background": "light"
     },
     "output_type": "display_data"
    }
   ],
   "source": [
    "plot_acf(df_diff, lags=25,zero=False)   \n",
    "plt.show()"
   ]
  },
  {
   "cell_type": "code",
   "execution_count": 17,
   "id": "biblical-skating",
   "metadata": {
    "id": "27VsElDo-Swb"
   },
   "outputs": [],
   "source": [
    "lag=23"
   ]
  },
  {
   "cell_type": "markdown",
   "id": "swiss-strain",
   "metadata": {
    "id": "uU4T7CBh23Cd"
   },
   "source": [
    "## Split the data"
   ]
  },
  {
   "cell_type": "code",
   "execution_count": 18,
   "id": "desperate-insurance",
   "metadata": {
    "id": "QkYO5LdxAvHx"
   },
   "outputs": [],
   "source": [
    "TRAIN_SPLIT=int(len(dataset)*0.8)"
   ]
  },
  {
   "cell_type": "code",
   "execution_count": 19,
   "id": "treated-breathing",
   "metadata": {
    "colab": {
     "base_uri": "https://localhost:8080/"
    },
    "id": "zAOOHjqVAvK8",
    "outputId": "c1914516-4af0-4de1-cd70-3efa8e7555ee"
   },
   "outputs": [
    {
     "data": {
      "text/plain": [
       "4000"
      ]
     },
     "execution_count": 19,
     "metadata": {},
     "output_type": "execute_result"
    }
   ],
   "source": [
    "TRAIN_SPLIT"
   ]
  },
  {
   "cell_type": "code",
   "execution_count": 20,
   "id": "revised-listening",
   "metadata": {
    "id": "Yp4tbIeiT92q"
   },
   "outputs": [],
   "source": [
    "dataset=np.array(dataset)"
   ]
  },
  {
   "cell_type": "markdown",
   "id": "stuck-approval",
   "metadata": {
    "id": "8UalPxp42808"
   },
   "source": [
    "## to supervised"
   ]
  },
  {
   "cell_type": "code",
   "execution_count": 21,
   "id": "ready-antigua",
   "metadata": {
    "id": "GdT4N8iAAvOt"
   },
   "outputs": [],
   "source": [
    "def multivariate_data(dataset, target, start_index, end_index, history_size,\n",
    "                      target_size, step, single_step=False):\n",
    "    data = []\n",
    "    labels = []\n",
    "\n",
    "    start_index = start_index + history_size\n",
    "    if end_index is None:\n",
    "        end_index = len(dataset) - target_size\n",
    "\n",
    "    for i in range(start_index, end_index):\n",
    "        indices = range(i-history_size, i, step)\n",
    "        data.append(dataset[indices])\n",
    "\n",
    "        if single_step:\n",
    "            labels.append(target[i+target_size])\n",
    "        else:\n",
    "            labels.append(target[i:i+target_size])\n",
    "\n",
    "    return np.array(data), np.array(labels)"
   ]
  },
  {
   "cell_type": "code",
   "execution_count": 22,
   "id": "computational-stick",
   "metadata": {
    "id": "_DqdXi6mAvYG"
   },
   "outputs": [],
   "source": [
    "past_history = lag\n",
    "STEP = 1\n",
    "n_step=3\n",
    "\n",
    "x_train_multi, y_train_multi= multivariate_data(dataset, dataset[:,3], 0,\n",
    "                                                   TRAIN_SPLIT, past_history,\n",
    "                                                   n_step, STEP,\n",
    "                                                   single_step=False)\n",
    "x_test_multi, y_test_multi = multivariate_data(dataset, dataset[:, 3],\n",
    "                                               TRAIN_SPLIT, None, past_history,\n",
    "                                               n_step, STEP,\n",
    "                                               single_step=False)"
   ]
  },
  {
   "cell_type": "code",
   "execution_count": 23,
   "id": "corrected-baseball",
   "metadata": {
    "colab": {
     "base_uri": "https://localhost:8080/"
    },
    "id": "N4PZ3HYpAvcl",
    "outputId": "8e582af2-0ecf-4437-a6c9-0cb1d508eaef"
   },
   "outputs": [
    {
     "name": "stdout",
     "output_type": "stream",
     "text": [
      "(3977, 23, 4)\n",
      "(974, 23, 4)\n"
     ]
    }
   ],
   "source": [
    "print(x_train_multi.shape)\n",
    "print(x_test_multi.shape)\n"
   ]
  },
  {
   "cell_type": "code",
   "execution_count": 24,
   "id": "governmental-columbus",
   "metadata": {
    "colab": {
     "base_uri": "https://localhost:8080/"
    },
    "id": "cJcqmkMRAvjf",
    "outputId": "66870fab-f7fd-41b3-f274-3dc2ae68d597"
   },
   "outputs": [
    {
     "name": "stdout",
     "output_type": "stream",
     "text": [
      "(3977, 3)\n",
      "(974, 3)\n"
     ]
    }
   ],
   "source": [
    "print(y_train_multi.shape)\n",
    "print(y_test_multi.shape)"
   ]
  },
  {
   "cell_type": "markdown",
   "id": "blessed-brief",
   "metadata": {
    "id": "hQWQ-RlK3Cmb"
   },
   "source": [
    "## scale data"
   ]
  },
  {
   "cell_type": "code",
   "execution_count": 25,
   "id": "respective-mercury",
   "metadata": {
    "id": "husfPj9jsJjN"
   },
   "outputs": [],
   "source": [
    "from sklearn.preprocessing import MinMaxScaler"
   ]
  },
  {
   "cell_type": "code",
   "execution_count": 26,
   "id": "deluxe-guard",
   "metadata": {
    "id": "2PQWBm6isLGX"
   },
   "outputs": [],
   "source": [
    "scalers = {}\n",
    "for i in range(x_train_multi.shape[1]):\n",
    "    scalers [i]= MinMaxScaler(feature_range=(0,1))\n",
    "    x_train_multi[:, i, :] = scalers[i].fit_transform(x_train_multi[:, i, :]) \n",
    "\n",
    "for i in range(x_test_multi.shape[1]):\n",
    "    x_test_multi[:, i, :] = scalers[i].transform(x_test_multi[:, i, :]) "
   ]
  },
  {
   "cell_type": "code",
   "execution_count": 27,
   "id": "mechanical-anatomy",
   "metadata": {
    "colab": {
     "base_uri": "https://localhost:8080/"
    },
    "id": "oeLiRfbnW2lY",
    "outputId": "9873badf-f8cd-4f6d-f0ce-c34ebe787662"
   },
   "outputs": [
    {
     "data": {
      "text/plain": [
       "((3977, 23, 4), (974, 23, 4))"
      ]
     },
     "execution_count": 27,
     "metadata": {},
     "output_type": "execute_result"
    }
   ],
   "source": [
    "x_train_multi.shape,x_test_multi.shape"
   ]
  },
  {
   "cell_type": "code",
   "execution_count": 28,
   "id": "wireless-weight",
   "metadata": {
    "colab": {
     "base_uri": "https://localhost:8080/"
    },
    "id": "f3MJdBhmA2cz",
    "outputId": "b3e854b4-2da8-412c-971d-c23978d48fe8"
   },
   "outputs": [
    {
     "data": {
      "text/plain": [
       "{0: MinMaxScaler(),\n",
       " 1: MinMaxScaler(),\n",
       " 2: MinMaxScaler(),\n",
       " 3: MinMaxScaler(),\n",
       " 4: MinMaxScaler(),\n",
       " 5: MinMaxScaler(),\n",
       " 6: MinMaxScaler(),\n",
       " 7: MinMaxScaler(),\n",
       " 8: MinMaxScaler(),\n",
       " 9: MinMaxScaler(),\n",
       " 10: MinMaxScaler(),\n",
       " 11: MinMaxScaler(),\n",
       " 12: MinMaxScaler(),\n",
       " 13: MinMaxScaler(),\n",
       " 14: MinMaxScaler(),\n",
       " 15: MinMaxScaler(),\n",
       " 16: MinMaxScaler(),\n",
       " 17: MinMaxScaler(),\n",
       " 18: MinMaxScaler(),\n",
       " 19: MinMaxScaler(),\n",
       " 20: MinMaxScaler(),\n",
       " 21: MinMaxScaler(),\n",
       " 22: MinMaxScaler()}"
      ]
     },
     "execution_count": 28,
     "metadata": {},
     "output_type": "execute_result"
    }
   ],
   "source": [
    "scalers"
   ]
  },
  {
   "cell_type": "code",
   "execution_count": 29,
   "id": "conditional-behalf",
   "metadata": {
    "id": "pnSnExRfULRJ"
   },
   "outputs": [],
   "source": [
    "\n",
    "scaler_y =MinMaxScaler(feature_range=(0,1))\n",
    "y_train_multi=scaler_y.fit_transform(y_train_multi)\n",
    "y_test_multi=scaler_y.transform(y_test_multi)\n"
   ]
  },
  {
   "cell_type": "code",
   "execution_count": 30,
   "id": "excellent-decimal",
   "metadata": {
    "colab": {
     "base_uri": "https://localhost:8080/"
    },
    "id": "TAzrKxNCUqbl",
    "outputId": "9a825a28-e158-461c-91b5-9128b44de3fa"
   },
   "outputs": [
    {
     "data": {
      "text/plain": [
       "((974, 3), (3977, 3))"
      ]
     },
     "execution_count": 30,
     "metadata": {},
     "output_type": "execute_result"
    }
   ],
   "source": [
    "y_test_multi.shape,y_train_multi.shape"
   ]
  },
  {
   "cell_type": "markdown",
   "id": "authorized-armenia",
   "metadata": {
    "id": "NXDQZNCe3Hju"
   },
   "source": [
    "# Simple RNN"
   ]
  },
  {
   "cell_type": "code",
   "execution_count": 31,
   "id": "moving-wagner",
   "metadata": {
    "id": "HlTMacxkLSSF"
   },
   "outputs": [],
   "source": [
    "from keras.models import Sequential\n",
    "from keras.layers import LSTM,Dense ,GRU,SimpleRNN,Conv1D,MaxPooling1D,Flatten , Dropout"
   ]
  },
  {
   "cell_type": "code",
   "execution_count": 32,
   "id": "retired-priest",
   "metadata": {
    "id": "UwYdkYvgAvmt"
   },
   "outputs": [],
   "source": [
    "RNN_model = Sequential()\n",
    "RNN_model.add(SimpleRNN(50,input_shape=x_train_multi.shape[-2:],activation='relu',return_sequences=True))\n",
    "# RNN_model.add(Dropout(0.3))\n",
    "RNN_model.add(SimpleRNN(50,activation='relu',kernel_regularizer='l2'))\n",
    "# RNN_model.add(Dropout(0.3))\n",
    "RNN_model.add(Dense(n_step,activation='selu'))\n",
    "RNN_model.compile(optimizer='adam', loss='mse')"
   ]
  },
  {
   "cell_type": "code",
   "execution_count": 33,
   "id": "fifth-bronze",
   "metadata": {
    "colab": {
     "base_uri": "https://localhost:8080/"
    },
    "id": "UI07nnEgOMk8",
    "outputId": "6a2e7d60-99ee-49db-ede2-1dc6ea654e43"
   },
   "outputs": [
    {
     "name": "stdout",
     "output_type": "stream",
     "text": [
      "Epoch 1/100\n",
      "249/249 [==============================] - 7s 18ms/step - loss: 0.2168 - val_loss: 0.0582\n",
      "Epoch 2/100\n",
      "249/249 [==============================] - 4s 15ms/step - loss: 0.0283 - val_loss: 0.0118\n",
      "Epoch 3/100\n",
      "249/249 [==============================] - 4s 15ms/step - loss: 0.0071 - val_loss: 0.0035\n",
      "Epoch 4/100\n",
      "249/249 [==============================] - 4s 16ms/step - loss: 0.0027 - val_loss: 0.0017\n",
      "Epoch 5/100\n",
      "249/249 [==============================] - 4s 16ms/step - loss: 0.0015 - val_loss: 8.1620e-04\n",
      "Epoch 6/100\n",
      "249/249 [==============================] - 4s 18ms/step - loss: 0.0013 - val_loss: 7.3925e-04\n",
      "Epoch 7/100\n",
      "249/249 [==============================] - 4s 18ms/step - loss: 9.7583e-04 - val_loss: 0.0016\n",
      "Epoch 8/100\n",
      "249/249 [==============================] - 5s 18ms/step - loss: 0.0010 - val_loss: 4.5674e-04\n",
      "Epoch 9/100\n",
      "249/249 [==============================] - 4s 17ms/step - loss: 8.3696e-04 - val_loss: 3.9847e-04\n",
      "Epoch 10/100\n",
      "249/249 [==============================] - 4s 18ms/step - loss: 9.7059e-04 - val_loss: 4.2840e-04\n",
      "Epoch 11/100\n",
      "249/249 [==============================] - 4s 18ms/step - loss: 7.5292e-04 - val_loss: 4.8387e-04\n",
      "Epoch 12/100\n",
      "249/249 [==============================] - 4s 18ms/step - loss: 7.4256e-04 - val_loss: 7.8250e-04\n",
      "Epoch 13/100\n",
      "249/249 [==============================] - 4s 18ms/step - loss: 8.2243e-04 - val_loss: 4.0404e-04\n",
      "Epoch 14/100\n",
      "249/249 [==============================] - 4s 18ms/step - loss: 8.2316e-04 - val_loss: 6.4719e-04\n",
      "Epoch 15/100\n",
      "249/249 [==============================] - 4s 18ms/step - loss: 8.0680e-04 - val_loss: 3.8296e-04\n",
      "Epoch 16/100\n",
      "249/249 [==============================] - 4s 18ms/step - loss: 7.5107e-04 - val_loss: 4.7200e-04\n",
      "Epoch 17/100\n",
      "249/249 [==============================] - 4s 17ms/step - loss: 7.3752e-04 - val_loss: 3.8277e-04\n",
      "Epoch 18/100\n",
      "249/249 [==============================] - 4s 18ms/step - loss: 7.1977e-04 - val_loss: 3.5939e-04\n",
      "Epoch 19/100\n",
      "249/249 [==============================] - 4s 18ms/step - loss: 6.8693e-04 - val_loss: 3.6703e-04\n",
      "Epoch 20/100\n",
      "249/249 [==============================] - 4s 18ms/step - loss: 7.0564e-04 - val_loss: 3.8083e-04\n",
      "Epoch 21/100\n",
      "249/249 [==============================] - 4s 18ms/step - loss: 8.0494e-04 - val_loss: 3.7334e-04\n",
      "Epoch 22/100\n",
      "249/249 [==============================] - 4s 18ms/step - loss: 6.4057e-04 - val_loss: 4.3499e-04\n",
      "Epoch 23/100\n",
      "249/249 [==============================] - 4s 18ms/step - loss: 7.3414e-04 - val_loss: 3.3616e-04\n",
      "Epoch 24/100\n",
      "249/249 [==============================] - 4s 18ms/step - loss: 6.8284e-04 - val_loss: 3.6063e-04\n",
      "Epoch 25/100\n",
      "249/249 [==============================] - 4s 18ms/step - loss: 6.3429e-04 - val_loss: 5.0209e-04\n",
      "Epoch 26/100\n",
      "249/249 [==============================] - 4s 18ms/step - loss: 7.0461e-04 - val_loss: 3.3186e-04\n",
      "Epoch 27/100\n",
      "249/249 [==============================] - 4s 18ms/step - loss: 6.2262e-04 - val_loss: 4.3008e-04\n",
      "Epoch 28/100\n",
      "249/249 [==============================] - 4s 18ms/step - loss: 6.6675e-04 - val_loss: 3.3365e-04\n",
      "Epoch 29/100\n",
      "249/249 [==============================] - 5s 18ms/step - loss: 5.7456e-04 - val_loss: 3.4321e-04\n",
      "Epoch 30/100\n",
      "249/249 [==============================] - 4s 18ms/step - loss: 6.1621e-04 - val_loss: 4.3624e-04\n",
      "Epoch 31/100\n",
      "249/249 [==============================] - 4s 18ms/step - loss: 5.6615e-04 - val_loss: 2.9492e-04\n",
      "Epoch 32/100\n",
      "249/249 [==============================] - 4s 18ms/step - loss: 5.9497e-04 - val_loss: 3.1108e-04\n",
      "Epoch 33/100\n",
      "249/249 [==============================] - 4s 18ms/step - loss: 5.7763e-04 - val_loss: 4.9567e-04\n",
      "Epoch 34/100\n",
      "249/249 [==============================] - 4s 18ms/step - loss: 6.4039e-04 - val_loss: 0.0011\n",
      "Epoch 35/100\n",
      "249/249 [==============================] - 4s 17ms/step - loss: 6.0304e-04 - val_loss: 3.8263e-04\n",
      "Epoch 36/100\n",
      "249/249 [==============================] - 4s 18ms/step - loss: 6.3044e-04 - val_loss: 2.9393e-04\n",
      "Epoch 37/100\n",
      "249/249 [==============================] - 4s 18ms/step - loss: 5.6657e-04 - val_loss: 2.8331e-04\n",
      "Epoch 38/100\n",
      "249/249 [==============================] - 4s 18ms/step - loss: 6.4208e-04 - val_loss: 2.7368e-04\n",
      "Epoch 39/100\n",
      "249/249 [==============================] - 4s 18ms/step - loss: 5.6103e-04 - val_loss: 3.0291e-04\n",
      "Epoch 40/100\n",
      "249/249 [==============================] - 4s 18ms/step - loss: 6.4909e-04 - val_loss: 2.9519e-04\n",
      "Epoch 41/100\n",
      "249/249 [==============================] - 4s 18ms/step - loss: 5.5050e-04 - val_loss: 3.7708e-04\n",
      "Epoch 42/100\n",
      "249/249 [==============================] - 4s 18ms/step - loss: 5.4929e-04 - val_loss: 3.5358e-04\n",
      "Epoch 43/100\n",
      "249/249 [==============================] - 4s 17ms/step - loss: 5.5724e-04 - val_loss: 5.5781e-04\n",
      "Epoch 44/100\n",
      "249/249 [==============================] - 4s 18ms/step - loss: 5.2465e-04 - val_loss: 2.8165e-04\n",
      "Epoch 45/100\n",
      "249/249 [==============================] - 4s 18ms/step - loss: 5.4092e-04 - val_loss: 3.6831e-04\n",
      "Epoch 46/100\n",
      "249/249 [==============================] - 4s 18ms/step - loss: 5.2828e-04 - val_loss: 5.7354e-04\n",
      "Epoch 47/100\n",
      "249/249 [==============================] - 4s 18ms/step - loss: 5.6392e-04 - val_loss: 2.8631e-04\n",
      "Epoch 48/100\n",
      "249/249 [==============================] - 4s 18ms/step - loss: 5.2693e-04 - val_loss: 3.6010e-04\n",
      "Epoch 49/100\n",
      "249/249 [==============================] - 4s 18ms/step - loss: 5.5201e-04 - val_loss: 3.0410e-04\n",
      "Epoch 50/100\n",
      "249/249 [==============================] - 4s 17ms/step - loss: 5.7232e-04 - val_loss: 2.5651e-04\n",
      "Epoch 51/100\n",
      "249/249 [==============================] - 4s 18ms/step - loss: 4.9630e-04 - val_loss: 2.6044e-04\n",
      "Epoch 52/100\n",
      "249/249 [==============================] - 4s 18ms/step - loss: 5.3475e-04 - val_loss: 2.9474e-04\n",
      "Epoch 53/100\n",
      "249/249 [==============================] - 4s 18ms/step - loss: 5.0045e-04 - val_loss: 2.7017e-04\n",
      "Epoch 54/100\n",
      "249/249 [==============================] - 4s 18ms/step - loss: 5.4319e-04 - val_loss: 2.8292e-04\n",
      "Epoch 55/100\n",
      "249/249 [==============================] - 4s 18ms/step - loss: 5.1073e-04 - val_loss: 4.8197e-04\n",
      "Epoch 56/100\n",
      "249/249 [==============================] - 4s 18ms/step - loss: 5.1794e-04 - val_loss: 3.9559e-04\n",
      "Epoch 57/100\n",
      "249/249 [==============================] - 4s 18ms/step - loss: 4.6673e-04 - val_loss: 3.2398e-04\n",
      "Epoch 58/100\n",
      "249/249 [==============================] - 4s 18ms/step - loss: 4.9391e-04 - val_loss: 4.1760e-04\n",
      "Epoch 59/100\n",
      "249/249 [==============================] - 4s 17ms/step - loss: 4.7574e-04 - val_loss: 2.5218e-04\n",
      "Epoch 60/100\n",
      "249/249 [==============================] - 4s 18ms/step - loss: 4.6001e-04 - val_loss: 2.4187e-04\n",
      "Epoch 61/100\n",
      "249/249 [==============================] - 4s 18ms/step - loss: 4.7019e-04 - val_loss: 2.4097e-04\n",
      "Epoch 62/100\n",
      "249/249 [==============================] - 4s 18ms/step - loss: 5.5003e-04 - val_loss: 2.3498e-04\n",
      "Epoch 63/100\n",
      "249/249 [==============================] - 4s 18ms/step - loss: 4.9371e-04 - val_loss: 2.3407e-04\n",
      "Epoch 64/100\n",
      "249/249 [==============================] - 4s 18ms/step - loss: 4.9665e-04 - val_loss: 2.4772e-04\n",
      "Epoch 65/100\n",
      "249/249 [==============================] - 4s 18ms/step - loss: 4.6477e-04 - val_loss: 2.5233e-04\n",
      "Epoch 66/100\n",
      "249/249 [==============================] - 4s 18ms/step - loss: 4.6623e-04 - val_loss: 2.5744e-04\n",
      "Epoch 67/100\n",
      "249/249 [==============================] - 4s 18ms/step - loss: 4.7453e-04 - val_loss: 2.2756e-04\n",
      "Epoch 68/100\n",
      "249/249 [==============================] - 4s 17ms/step - loss: 4.8197e-04 - val_loss: 2.3265e-04\n",
      "Epoch 69/100\n",
      "249/249 [==============================] - 4s 16ms/step - loss: 4.3109e-04 - val_loss: 2.2139e-04\n",
      "Epoch 70/100\n",
      "249/249 [==============================] - 4s 18ms/step - loss: 5.0759e-04 - val_loss: 2.6914e-04\n",
      "Epoch 71/100\n",
      "249/249 [==============================] - 4s 18ms/step - loss: 4.4586e-04 - val_loss: 2.2176e-04\n",
      "Epoch 72/100\n",
      "249/249 [==============================] - 4s 18ms/step - loss: 4.6559e-04 - val_loss: 5.5352e-04\n",
      "Epoch 73/100\n",
      "249/249 [==============================] - 4s 18ms/step - loss: 4.5421e-04 - val_loss: 2.3757e-04\n",
      "Epoch 74/100\n",
      "249/249 [==============================] - 3s 11ms/step - loss: 4.2254e-04 - val_loss: 2.2986e-04\n",
      "Epoch 75/100\n",
      "249/249 [==============================] - 4s 15ms/step - loss: 4.4369e-04 - val_loss: 2.9676e-04\n",
      "Epoch 76/100\n",
      "249/249 [==============================] - 87s 353ms/step - loss: 4.6025e-04 - val_loss: 2.5031e-04\n",
      "Epoch 77/100\n",
      "249/249 [==============================] - 3s 10ms/step - loss: 4.5618e-04 - val_loss: 2.6829e-04\n",
      "Epoch 78/100\n",
      "249/249 [==============================] - 3s 10ms/step - loss: 4.6604e-04 - val_loss: 2.3576e-04\n",
      "Epoch 79/100\n",
      "249/249 [==============================] - 4s 16ms/step - loss: 4.2973e-04 - val_loss: 3.3891e-04\n",
      "Epoch 80/100\n",
      "249/249 [==============================] - 4s 18ms/step - loss: 4.1428e-04 - val_loss: 2.0732e-04\n",
      "Epoch 81/100\n",
      "249/249 [==============================] - 4s 18ms/step - loss: 4.6001e-04 - val_loss: 3.2714e-04\n",
      "Epoch 82/100\n",
      "249/249 [==============================] - 4s 17ms/step - loss: 4.5509e-04 - val_loss: 2.2752e-04\n",
      "Epoch 83/100\n",
      "249/249 [==============================] - 4s 18ms/step - loss: 4.1190e-04 - val_loss: 2.9174e-04\n",
      "Epoch 84/100\n",
      "249/249 [==============================] - 4s 18ms/step - loss: 4.4241e-04 - val_loss: 3.0567e-04\n",
      "Epoch 85/100\n",
      "249/249 [==============================] - 4s 17ms/step - loss: 4.6084e-04 - val_loss: 2.1383e-04\n",
      "Epoch 86/100\n",
      "249/249 [==============================] - 4s 18ms/step - loss: 4.3344e-04 - val_loss: 2.0283e-04\n",
      "Epoch 87/100\n",
      "249/249 [==============================] - 4s 18ms/step - loss: 3.9498e-04 - val_loss: 2.4286e-04\n",
      "Epoch 88/100\n",
      "249/249 [==============================] - 4s 18ms/step - loss: 4.0794e-04 - val_loss: 1.9721e-04\n",
      "Epoch 89/100\n",
      "249/249 [==============================] - 4s 18ms/step - loss: 4.1646e-04 - val_loss: 2.0417e-04\n",
      "Epoch 90/100\n",
      "249/249 [==============================] - 4s 18ms/step - loss: 4.1690e-04 - val_loss: 2.1708e-04\n",
      "Epoch 91/100\n",
      "249/249 [==============================] - 3s 12ms/step - loss: 4.1662e-04 - val_loss: 1.9568e-04\n",
      "Epoch 92/100\n",
      "249/249 [==============================] - 4s 18ms/step - loss: 4.3641e-04 - val_loss: 2.2841e-04\n",
      "Epoch 93/100\n",
      "249/249 [==============================] - 4s 18ms/step - loss: 4.3261e-04 - val_loss: 2.0682e-04\n",
      "Epoch 94/100\n",
      "249/249 [==============================] - 4s 18ms/step - loss: 4.1043e-04 - val_loss: 3.3928e-04\n",
      "Epoch 95/100\n",
      "249/249 [==============================] - 4s 18ms/step - loss: 4.7122e-04 - val_loss: 3.2437e-04\n",
      "Epoch 96/100\n",
      "249/249 [==============================] - 4s 18ms/step - loss: 4.0317e-04 - val_loss: 1.9948e-04\n",
      "Epoch 97/100\n",
      "249/249 [==============================] - 4s 18ms/step - loss: 3.8184e-04 - val_loss: 2.4684e-04\n",
      "Epoch 98/100\n",
      "249/249 [==============================] - 4s 18ms/step - loss: 3.8322e-04 - val_loss: 2.0311e-04\n",
      "Epoch 99/100\n",
      "249/249 [==============================] - 4s 18ms/step - loss: 4.0721e-04 - val_loss: 2.5927e-04\n",
      "Epoch 100/100\n",
      "249/249 [==============================] - 4s 18ms/step - loss: 4.0869e-04 - val_loss: 3.5576e-04\n"
     ]
    }
   ],
   "source": [
    "history_RNN=RNN_model.fit(x_train_multi,y_train_multi,\n",
    "                                            epochs=100,batch_size=16,validation_data=(x_test_multi,y_test_multi))"
   ]
  },
  {
   "cell_type": "markdown",
   "id": "declared-dover",
   "metadata": {
    "id": "1tQjOiryOpGq"
   },
   "source": [
    "## learning curve"
   ]
  },
  {
   "cell_type": "code",
   "execution_count": 34,
   "id": "polyphonic-robert",
   "metadata": {
    "colab": {
     "base_uri": "https://localhost:8080/",
     "height": 513
    },
    "id": "4zUN38qjOvs7",
    "outputId": "4de6b528-229d-427a-b447-3b05b67d3d21"
   },
   "outputs": [
    {
     "data": {
      "image/png": "[encoded data removed]",
      "text/plain": [
       "<Figure size 864x576 with 1 Axes>"
      ]
     },
     "metadata": {
      "needs_background": "light"
     },
     "output_type": "display_data"
    }
   ],
   "source": [
    "plt.figure(figsize=(12,8))\n",
    "plt.plot(history_RNN.history['loss'])\n",
    "plt.plot(history_RNN.history['val_loss'])\n",
    "plt.title('model loss')\n",
    "plt.ylabel('loss')\n",
    "plt.xlabel('epoch')\n",
    "plt.legend(['train', 'test'], loc='upper left')\n",
    "plt.show()"
   ]
  },
  {
   "cell_type": "markdown",
   "id": "threaded-fashion",
   "metadata": {
    "id": "2qS8-hU7Y8c3"
   },
   "source": [
    "## Predict Test Set"
   ]
  },
  {
   "cell_type": "code",
   "execution_count": 35,
   "id": "fantastic-military",
   "metadata": {
    "id": "USsxHtNTOMyb"
   },
   "outputs": [
    {
     "name": "stdout",
     "output_type": "stream",
     "text": [
      "31/31 [==============================] - 1s 6ms/step\n"
     ]
    }
   ],
   "source": [
    "predict_RNN=RNN_model.predict(x_test_multi)"
   ]
  },
  {
   "cell_type": "code",
   "execution_count": 36,
   "id": "pursuant-indicator",
   "metadata": {
    "colab": {
     "base_uri": "https://localhost:8080/"
    },
    "id": "wzsXI67lOM1g",
    "outputId": "99aa95bb-3b45-4459-e673-d00a3fbc70a1"
   },
   "outputs": [
    {
     "data": {
      "text/plain": [
       "(974, 3)"
      ]
     },
     "execution_count": 36,
     "metadata": {},
     "output_type": "execute_result"
    }
   ],
   "source": [
    "predict_RNN.shape"
   ]
  },
  {
   "cell_type": "markdown",
   "id": "changed-drawing",
   "metadata": {
    "id": "dUMCW8gDI2BP"
   },
   "source": [
    "## MSE"
   ]
  },
  {
   "cell_type": "code",
   "execution_count": 37,
   "id": "integral-start",
   "metadata": {
    "id": "phMLt2xoI6yb"
   },
   "outputs": [],
   "source": [
    "from sklearn.metrics import mean_squared_error"
   ]
  },
  {
   "cell_type": "code",
   "execution_count": 38,
   "id": "micro-analyst",
   "metadata": {
    "id": "ZovFapjHI62T"
   },
   "outputs": [],
   "source": [
    "mse_RNN= mean_squared_error(y_test_multi, predict_RNN)"
   ]
  },
  {
   "cell_type": "code",
   "execution_count": 39,
   "id": "welcome-seeker",
   "metadata": {
    "colab": {
     "base_uri": "https://localhost:8080/"
    },
    "id": "Hsid9sogJJWT",
    "outputId": "8c7d8b96-8827-4eab-b192-51b997e145b2"
   },
   "outputs": [
    {
     "data": {
      "text/plain": [
       "0.0002858596224005032"
      ]
     },
     "execution_count": 39,
     "metadata": {},
     "output_type": "execute_result"
    }
   ],
   "source": [
    "mse_RNN"
   ]
  },
  {
   "cell_type": "markdown",
   "id": "asian-holocaust",
   "metadata": {
    "id": "L2ktHi1qOk7b"
   },
   "source": [
    "## Inverse Prediction"
   ]
  },
  {
   "cell_type": "code",
   "execution_count": 40,
   "id": "republican-fitting",
   "metadata": {
    "id": "f00zFoIrRw7N"
   },
   "outputs": [],
   "source": [
    "predict_RNN_inv=scaler_y.inverse_transform(predict_RNN)\n",
    "y_test_multi_inv=scaler_y.inverse_transform(y_test_multi)"
   ]
  },
  {
   "cell_type": "code",
   "execution_count": 41,
   "id": "sporting-occasion",
   "metadata": {
    "colab": {
     "base_uri": "https://localhost:8080/",
     "height": 609
    },
    "id": "W9iHs8TjYQwn",
    "outputId": "689b0e9c-9d1f-4632-9f17-0d7ec83b33af"
   },
   "outputs": [
    {
     "data": {
      "text/plain": [
       "<matplotlib.legend.Legend at 0x191e5a50970>"
      ]
     },
     "execution_count": 41,
     "metadata": {},
     "output_type": "execute_result"
    },
    {
     "data": {
      "image/png": "[encoded data removed]",
      "text/plain": [
       "<Figure size 1080x720 with 1 Axes>"
      ]
     },
     "metadata": {
      "needs_background": "light"
     },
     "output_type": "display_data"
    }
   ],
   "source": [
    "fig = plt.figure(figsize = (15,10))\n",
    "plt.plot(y_test_multi_inv[:,2], color='b', label='Real ')\n",
    "plt.plot(predict_RNN_inv[:,2], color='r', label='Predicted ')\n",
    "plt.legend()"
   ]
  },
  {
   "cell_type": "markdown",
   "id": "critical-monaco",
   "metadata": {
    "id": "q881FdwCDlj_"
   },
   "source": [
    "## predict next step"
   ]
  },
  {
   "cell_type": "code",
   "execution_count": 42,
   "id": "black-watson",
   "metadata": {
    "colab": {
     "base_uri": "https://localhost:8080/"
    },
    "id": "eB4Jpb5hAvsp",
    "outputId": "9f49ffd3-4281-412a-db77-1d02b4016c48"
   },
   "outputs": [
    {
     "data": {
      "text/plain": [
       "(1, 23, 4)"
      ]
     },
     "execution_count": 42,
     "metadata": {},
     "output_type": "execute_result"
    }
   ],
   "source": [
    "input_samples=x_test_multi[-1:,:,:]\n",
    "input_samples.shape"
   ]
  },
  {
   "cell_type": "code",
   "execution_count": 43,
   "id": "appointed-chance",
   "metadata": {
    "colab": {
     "base_uri": "https://localhost:8080/"
    },
    "id": "2swPWLfGAvva",
    "outputId": "772edef0-5b32-4482-f60a-870410fffe53"
   },
   "outputs": [
    {
     "name": "stdout",
     "output_type": "stream",
     "text": [
      "1/1 [==============================] - 0s 49ms/step\n"
     ]
    },
    {
     "data": {
      "text/plain": [
       "(1, 3)"
      ]
     },
     "execution_count": 43,
     "metadata": {},
     "output_type": "execute_result"
    }
   ],
   "source": [
    "next_step_RNN=RNN_model.predict(input_samples)\n",
    "next_step_RNN.shape"
   ]
  },
  {
   "cell_type": "code",
   "execution_count": 44,
   "id": "encouraging-iraqi",
   "metadata": {
    "colab": {
     "base_uri": "https://localhost:8080/"
    },
    "id": "0TNcWuz0xmof",
    "outputId": "e55104a9-5c23-4e4b-defe-aa95b28b7c67"
   },
   "outputs": [
    {
     "data": {
      "text/plain": [
       "array([[0.18371922, 0.18882973, 0.18696232]], dtype=float32)"
      ]
     },
     "execution_count": 44,
     "metadata": {},
     "output_type": "execute_result"
    }
   ],
   "source": [
    "next_step_RNN"
   ]
  },
  {
   "cell_type": "code",
   "execution_count": 45,
   "id": "burning-indonesia",
   "metadata": {
    "id": "pT25UoF5Avyf"
   },
   "outputs": [],
   "source": [
    "next_step_RNN_inv=scaler_y.inverse_transform(next_step_RNN)"
   ]
  },
  {
   "cell_type": "code",
   "execution_count": 46,
   "id": "blind-belly",
   "metadata": {
    "colab": {
     "base_uri": "https://localhost:8080/"
    },
    "id": "K5BJNY_qAv1T",
    "outputId": "c6d24d99-5b03-47c1-8327-45782c728a47"
   },
   "outputs": [
    {
     "data": {
      "text/plain": [
       "array([[19692.855, 19998.365, 19886.73 ]], dtype=float32)"
      ]
     },
     "execution_count": 46,
     "metadata": {},
     "output_type": "execute_result"
    }
   ],
   "source": [
    "next_step_RNN_inv"
   ]
  },
  {
   "cell_type": "markdown",
   "id": "adequate-trade",
   "metadata": {
    "id": "AZIulQf5krjB"
   },
   "source": [
    "# GRU"
   ]
  },
  {
   "cell_type": "code",
   "execution_count": 47,
   "id": "broad-contractor",
   "metadata": {
    "id": "zsBWmjy0ktC1"
   },
   "outputs": [],
   "source": [
    "GRU_model = Sequential()\n",
    "GRU_model.add(GRU(50,input_shape=x_train_multi.shape[-2:],activation='relu',return_sequences=True))\n",
    "# GRU_model.add(Dropout(0.3))\n",
    "GRU_model.add(GRU(50,activation='relu'))\n",
    "# GRU_model.add(Dropout(0.3))\n",
    "GRU_model.add(Dense(n_step,activation='selu'))\n",
    "GRU_model.compile(optimizer='adam', loss='mse')"
   ]
  },
  {
   "cell_type": "code",
   "execution_count": 48,
   "id": "angry-convenience",
   "metadata": {
    "colab": {
     "base_uri": "https://localhost:8080/"
    },
    "id": "PLT2NKKhktC2",
    "outputId": "33b8e348-6334-4700-efb1-1ca150154291"
   },
   "outputs": [
    {
     "name": "stdout",
     "output_type": "stream",
     "text": [
      "Epoch 1/100\n",
      "249/249 [==============================] - 13s 33ms/step - loss: 0.0123 - val_loss: 1.6882e-04\n",
      "Epoch 2/100\n",
      "249/249 [==============================] - 8s 31ms/step - loss: 3.5676e-04 - val_loss: 2.8391e-04\n",
      "Epoch 3/100\n",
      "249/249 [==============================] - 8s 31ms/step - loss: 3.5117e-04 - val_loss: 1.3974e-04\n",
      "Epoch 4/100\n",
      "249/249 [==============================] - 8s 31ms/step - loss: 3.2686e-04 - val_loss: 1.3543e-04\n",
      "Epoch 5/100\n",
      "249/249 [==============================] - 8s 31ms/step - loss: 3.1033e-04 - val_loss: 1.4872e-04\n",
      "Epoch 6/100\n",
      "249/249 [==============================] - 8s 30ms/step - loss: 3.2777e-04 - val_loss: 1.2953e-04\n",
      "Epoch 7/100\n",
      "249/249 [==============================] - 8s 31ms/step - loss: 3.2728e-04 - val_loss: 1.5011e-04\n",
      "Epoch 8/100\n",
      "249/249 [==============================] - 8s 31ms/step - loss: 3.0296e-04 - val_loss: 1.6521e-04\n",
      "Epoch 9/100\n",
      "249/249 [==============================] - 8s 30ms/step - loss: 3.0354e-04 - val_loss: 1.6405e-04\n",
      "Epoch 10/100\n",
      "249/249 [==============================] - 8s 31ms/step - loss: 3.0785e-04 - val_loss: 1.4500e-04\n",
      "Epoch 11/100\n",
      "249/249 [==============================] - 8s 31ms/step - loss: 3.0973e-04 - val_loss: 1.1745e-04\n",
      "Epoch 12/100\n",
      "249/249 [==============================] - 8s 30ms/step - loss: 2.9478e-04 - val_loss: 1.5131e-04\n",
      "Epoch 13/100\n",
      "249/249 [==============================] - 8s 31ms/step - loss: 2.8563e-04 - val_loss: 1.1908e-04\n",
      "Epoch 14/100\n",
      "249/249 [==============================] - 8s 31ms/step - loss: 3.1221e-04 - val_loss: 1.1096e-04\n",
      "Epoch 15/100\n",
      "249/249 [==============================] - 8s 31ms/step - loss: 2.8474e-04 - val_loss: 1.2021e-04\n",
      "Epoch 16/100\n",
      "249/249 [==============================] - 8s 31ms/step - loss: 2.8726e-04 - val_loss: 1.2639e-04\n",
      "Epoch 17/100\n",
      "249/249 [==============================] - 8s 30ms/step - loss: 2.9481e-04 - val_loss: 1.1055e-04\n",
      "Epoch 18/100\n",
      "249/249 [==============================] - 7s 30ms/step - loss: 2.9193e-04 - val_loss: 1.2232e-04\n",
      "Epoch 19/100\n",
      "249/249 [==============================] - 8s 31ms/step - loss: 2.7933e-04 - val_loss: 1.1591e-04\n",
      "Epoch 20/100\n",
      "249/249 [==============================] - 8s 31ms/step - loss: 2.7278e-04 - val_loss: 1.0874e-04\n",
      "Epoch 21/100\n",
      "249/249 [==============================] - 8s 31ms/step - loss: 2.8026e-04 - val_loss: 1.2459e-04\n",
      "Epoch 22/100\n",
      "249/249 [==============================] - 8s 30ms/step - loss: 2.8669e-04 - val_loss: 4.3548e-04\n",
      "Epoch 23/100\n",
      "249/249 [==============================] - 8s 31ms/step - loss: 2.7334e-04 - val_loss: 1.2267e-04\n",
      "Epoch 24/100\n",
      "249/249 [==============================] - 8s 31ms/step - loss: 2.8169e-04 - val_loss: 1.2050e-04\n",
      "Epoch 25/100\n",
      "249/249 [==============================] - 8s 31ms/step - loss: 2.7042e-04 - val_loss: 1.0294e-04\n",
      "Epoch 26/100\n",
      "249/249 [==============================] - 8s 31ms/step - loss: 2.7447e-04 - val_loss: 1.2290e-04\n",
      "Epoch 27/100\n",
      "249/249 [==============================] - 8s 31ms/step - loss: 2.7720e-04 - val_loss: 1.5882e-04\n",
      "Epoch 28/100\n",
      "249/249 [==============================] - 8s 31ms/step - loss: 2.5843e-04 - val_loss: 1.0743e-04\n",
      "Epoch 29/100\n",
      "249/249 [==============================] - 8s 31ms/step - loss: 2.7862e-04 - val_loss: 2.2438e-04\n",
      "Epoch 30/100\n",
      "249/249 [==============================] - 8s 31ms/step - loss: 2.7075e-04 - val_loss: 1.2474e-04\n",
      "Epoch 31/100\n",
      "249/249 [==============================] - 8s 31ms/step - loss: 2.6187e-04 - val_loss: 1.6722e-04\n",
      "Epoch 32/100\n",
      "249/249 [==============================] - 8s 31ms/step - loss: 2.6420e-04 - val_loss: 1.1306e-04\n",
      "Epoch 33/100\n",
      "249/249 [==============================] - 8s 31ms/step - loss: 2.6584e-04 - val_loss: 1.1089e-04\n",
      "Epoch 34/100\n",
      "249/249 [==============================] - 8s 31ms/step - loss: 2.8217e-04 - val_loss: 9.7078e-05\n",
      "Epoch 35/100\n",
      "249/249 [==============================] - 8s 31ms/step - loss: 2.7966e-04 - val_loss: 1.8441e-04\n",
      "Epoch 36/100\n",
      "249/249 [==============================] - 8s 31ms/step - loss: 2.7275e-04 - val_loss: 1.1250e-04\n",
      "Epoch 37/100\n",
      "249/249 [==============================] - 8s 31ms/step - loss: 2.7665e-04 - val_loss: 1.0988e-04\n",
      "Epoch 38/100\n",
      "249/249 [==============================] - 8s 31ms/step - loss: 2.6487e-04 - val_loss: 1.0387e-04\n",
      "Epoch 39/100\n",
      "249/249 [==============================] - 8s 31ms/step - loss: 2.7493e-04 - val_loss: 1.2623e-04\n",
      "Epoch 40/100\n",
      "249/249 [==============================] - 8s 31ms/step - loss: 2.7767e-04 - val_loss: 3.8723e-04\n",
      "Epoch 41/100\n",
      "249/249 [==============================] - 8s 31ms/step - loss: 2.8769e-04 - val_loss: 2.1639e-04\n",
      "Epoch 42/100\n",
      "249/249 [==============================] - 8s 31ms/step - loss: 2.7662e-04 - val_loss: 1.0291e-04\n",
      "Epoch 43/100\n",
      "249/249 [==============================] - 8s 31ms/step - loss: 2.7179e-04 - val_loss: 1.0320e-04\n",
      "Epoch 44/100\n",
      "249/249 [==============================] - 8s 31ms/step - loss: 2.6676e-04 - val_loss: 1.0170e-04\n",
      "Epoch 45/100\n",
      "249/249 [==============================] - 8s 31ms/step - loss: 2.6319e-04 - val_loss: 1.3018e-04\n",
      "Epoch 46/100\n",
      "249/249 [==============================] - 8s 30ms/step - loss: 2.6020e-04 - val_loss: 1.3940e-04\n",
      "Epoch 47/100\n",
      "249/249 [==============================] - 6s 26ms/step - loss: 2.5727e-04 - val_loss: 1.3804e-04\n",
      "Epoch 48/100\n",
      "249/249 [==============================] - 7s 29ms/step - loss: 2.6393e-04 - val_loss: 1.0541e-04\n",
      "Epoch 49/100\n",
      "249/249 [==============================] - 8s 30ms/step - loss: 2.6323e-04 - val_loss: 1.0293e-04\n",
      "Epoch 50/100\n",
      "249/249 [==============================] - 8s 31ms/step - loss: 2.6006e-04 - val_loss: 1.9677e-04\n",
      "Epoch 51/100\n",
      "249/249 [==============================] - 20s 81ms/step - loss: 2.5668e-04 - val_loss: 1.3948e-04\n",
      "Epoch 52/100\n",
      "249/249 [==============================] - 7s 28ms/step - loss: 2.5973e-04 - val_loss: 1.0677e-04\n",
      "Epoch 53/100\n",
      "249/249 [==============================] - 7s 30ms/step - loss: 2.6800e-04 - val_loss: 1.2490e-04\n",
      "Epoch 54/100\n",
      "249/249 [==============================] - 7s 29ms/step - loss: 2.8343e-04 - val_loss: 1.2180e-04\n",
      "Epoch 55/100\n",
      "249/249 [==============================] - 7s 30ms/step - loss: 2.6650e-04 - val_loss: 1.0615e-04\n",
      "Epoch 56/100\n",
      "249/249 [==============================] - 7s 29ms/step - loss: 2.6563e-04 - val_loss: 1.0572e-04\n",
      "Epoch 57/100\n",
      "249/249 [==============================] - 7s 30ms/step - loss: 2.5345e-04 - val_loss: 1.2638e-04\n",
      "Epoch 58/100\n",
      "249/249 [==============================] - 8s 30ms/step - loss: 2.5298e-04 - val_loss: 1.1948e-04\n",
      "Epoch 59/100\n",
      "249/249 [==============================] - 8s 30ms/step - loss: 2.8044e-04 - val_loss: 1.8854e-04\n",
      "Epoch 60/100\n",
      "249/249 [==============================] - 8s 31ms/step - loss: 2.6465e-04 - val_loss: 1.0427e-04\n",
      "Epoch 61/100\n",
      "249/249 [==============================] - 8s 30ms/step - loss: 2.6548e-04 - val_loss: 1.2591e-04\n",
      "Epoch 62/100\n",
      "249/249 [==============================] - 8s 30ms/step - loss: 2.6327e-04 - val_loss: 9.8990e-05\n",
      "Epoch 63/100\n",
      "249/249 [==============================] - 8s 31ms/step - loss: 2.5485e-04 - val_loss: 1.1420e-04\n",
      "Epoch 64/100\n",
      "249/249 [==============================] - 7s 30ms/step - loss: 2.6678e-04 - val_loss: 1.1178e-04\n",
      "Epoch 65/100\n",
      "249/249 [==============================] - 8s 31ms/step - loss: 2.6267e-04 - val_loss: 1.3441e-04\n",
      "Epoch 66/100\n",
      "249/249 [==============================] - 7s 30ms/step - loss: 2.6048e-04 - val_loss: 1.0812e-04\n",
      "Epoch 67/100\n",
      "249/249 [==============================] - 8s 31ms/step - loss: 2.5711e-04 - val_loss: 9.8331e-05\n",
      "Epoch 68/100\n",
      "249/249 [==============================] - 7s 30ms/step - loss: 2.5452e-04 - val_loss: 1.1802e-04\n",
      "Epoch 69/100\n",
      "249/249 [==============================] - 7s 30ms/step - loss: 2.5403e-04 - val_loss: 1.1663e-04\n",
      "Epoch 70/100\n",
      "249/249 [==============================] - 7s 30ms/step - loss: 2.5022e-04 - val_loss: 1.3916e-04\n",
      "Epoch 71/100\n",
      "249/249 [==============================] - 8s 30ms/step - loss: 2.7344e-04 - val_loss: 1.0066e-04\n",
      "Epoch 72/100\n",
      "249/249 [==============================] - 7s 30ms/step - loss: 2.7271e-04 - val_loss: 1.0234e-04\n",
      "Epoch 73/100\n",
      "249/249 [==============================] - 7s 30ms/step - loss: 2.5418e-04 - val_loss: 1.1321e-04\n",
      "Epoch 74/100\n",
      "249/249 [==============================] - 7s 30ms/step - loss: 2.5377e-04 - val_loss: 1.3032e-04\n"
     ]
    },
    {
     "name": "stdout",
     "output_type": "stream",
     "text": [
      "Epoch 75/100\n",
      "249/249 [==============================] - 7s 30ms/step - loss: 2.7102e-04 - val_loss: 1.3584e-04\n",
      "Epoch 76/100\n",
      "249/249 [==============================] - 7s 30ms/step - loss: 2.6211e-04 - val_loss: 1.1889e-04\n",
      "Epoch 77/100\n",
      "249/249 [==============================] - 8s 30ms/step - loss: 2.6344e-04 - val_loss: 1.0303e-04\n",
      "Epoch 78/100\n",
      "249/249 [==============================] - 8s 31ms/step - loss: 2.5720e-04 - val_loss: 1.6698e-04\n",
      "Epoch 79/100\n",
      "249/249 [==============================] - 8s 31ms/step - loss: 2.5256e-04 - val_loss: 1.4526e-04\n",
      "Epoch 80/100\n",
      "249/249 [==============================] - 7s 30ms/step - loss: 2.5660e-04 - val_loss: 1.1631e-04\n",
      "Epoch 81/100\n",
      "249/249 [==============================] - 8s 31ms/step - loss: 2.6512e-04 - val_loss: 1.0034e-04\n",
      "Epoch 82/100\n",
      "249/249 [==============================] - 8s 31ms/step - loss: 2.5403e-04 - val_loss: 1.6364e-04\n",
      "Epoch 83/100\n",
      "249/249 [==============================] - 8s 31ms/step - loss: 2.5799e-04 - val_loss: 9.9643e-05\n",
      "Epoch 84/100\n",
      "249/249 [==============================] - 8s 31ms/step - loss: 2.5252e-04 - val_loss: 1.0160e-04\n",
      "Epoch 85/100\n",
      "249/249 [==============================] - 8s 32ms/step - loss: 2.6137e-04 - val_loss: 1.1577e-04\n",
      "Epoch 86/100\n",
      "249/249 [==============================] - 8s 31ms/step - loss: 2.5741e-04 - val_loss: 1.1282e-04\n",
      "Epoch 87/100\n",
      "249/249 [==============================] - 8s 31ms/step - loss: 2.5656e-04 - val_loss: 9.9830e-05\n",
      "Epoch 88/100\n",
      "249/249 [==============================] - 8s 31ms/step - loss: 2.5025e-04 - val_loss: 1.6421e-04\n",
      "Epoch 89/100\n",
      "249/249 [==============================] - 8s 31ms/step - loss: 2.6402e-04 - val_loss: 1.1209e-04\n",
      "Epoch 90/100\n",
      "249/249 [==============================] - 8s 31ms/step - loss: 2.6472e-04 - val_loss: 3.3923e-04\n",
      "Epoch 91/100\n",
      "249/249 [==============================] - 8s 31ms/step - loss: 2.7766e-04 - val_loss: 1.0274e-04\n",
      "Epoch 92/100\n",
      "249/249 [==============================] - 8s 30ms/step - loss: 2.4791e-04 - val_loss: 1.0408e-04\n",
      "Epoch 93/100\n",
      "249/249 [==============================] - 8s 30ms/step - loss: 2.5286e-04 - val_loss: 1.2979e-04\n",
      "Epoch 94/100\n",
      "249/249 [==============================] - 7s 30ms/step - loss: 2.6269e-04 - val_loss: 1.1965e-04\n",
      "Epoch 95/100\n",
      "249/249 [==============================] - 7s 30ms/step - loss: 2.5224e-04 - val_loss: 1.1969e-04\n",
      "Epoch 96/100\n",
      "249/249 [==============================] - 8s 30ms/step - loss: 2.5716e-04 - val_loss: 1.0563e-04\n",
      "Epoch 97/100\n",
      "249/249 [==============================] - 8s 31ms/step - loss: 2.5374e-04 - val_loss: 1.1841e-04\n",
      "Epoch 98/100\n",
      "249/249 [==============================] - 8s 30ms/step - loss: 2.6152e-04 - val_loss: 1.0808e-04\n",
      "Epoch 99/100\n",
      "249/249 [==============================] - 7s 28ms/step - loss: 2.5360e-04 - val_loss: 1.0859e-04\n",
      "Epoch 100/100\n",
      "249/249 [==============================] - 8s 30ms/step - loss: 2.6135e-04 - val_loss: 1.0782e-04\n"
     ]
    }
   ],
   "source": [
    "history_GRU=GRU_model.fit(x_train_multi,y_train_multi,\n",
    "                                            epochs=100,batch_size=16,validation_data=(x_test_multi,y_test_multi))"
   ]
  },
  {
   "cell_type": "markdown",
   "id": "coastal-dodge",
   "metadata": {
    "id": "gPfIBtJ_ktC3"
   },
   "source": [
    "## learning curve"
   ]
  },
  {
   "cell_type": "code",
   "execution_count": 49,
   "id": "figured-hartford",
   "metadata": {
    "colab": {
     "base_uri": "https://localhost:8080/",
     "height": 513
    },
    "id": "dhr8M65jktC4",
    "outputId": "1e213fe9-cd9d-4099-d659-4cd4603de4bf"
   },
   "outputs": [
    {
     "data": {
      "image/png": "[encoded data removed]",
      "text/plain": [
       "<Figure size 864x576 with 1 Axes>"
      ]
     },
     "metadata": {
      "needs_background": "light"
     },
     "output_type": "display_data"
    }
   ],
   "source": [
    "plt.figure(figsize=(12,8))\n",
    "plt.plot(history_GRU.history['loss'])\n",
    "plt.plot(history_GRU.history['val_loss'])\n",
    "plt.title('model loss')\n",
    "plt.ylabel('loss')\n",
    "plt.xlabel('epoch')\n",
    "plt.legend(['train', 'test'], loc='upper left')\n",
    "plt.show()"
   ]
  },
  {
   "cell_type": "markdown",
   "id": "personal-bristol",
   "metadata": {
    "id": "olcx1W8NktC5"
   },
   "source": [
    "## Predict Test Set"
   ]
  },
  {
   "cell_type": "code",
   "execution_count": 50,
   "id": "altered-column",
   "metadata": {
    "id": "FbqG91coktC6"
   },
   "outputs": [
    {
     "name": "stdout",
     "output_type": "stream",
     "text": [
      "31/31 [==============================] - 1s 11ms/step\n"
     ]
    }
   ],
   "source": [
    "predict_GRU=GRU_model.predict(x_test_multi)"
   ]
  },
  {
   "cell_type": "code",
   "execution_count": 51,
   "id": "reduced-shield",
   "metadata": {
    "colab": {
     "base_uri": "https://localhost:8080/"
    },
    "id": "_UfNF6zSktC7",
    "outputId": "8fdaf7bd-1739-4a65-d8d7-5f280ae0c020"
   },
   "outputs": [
    {
     "data": {
      "text/plain": [
       "(974, 3)"
      ]
     },
     "execution_count": 51,
     "metadata": {},
     "output_type": "execute_result"
    }
   ],
   "source": [
    "predict_GRU.shape"
   ]
  },
  {
   "cell_type": "markdown",
   "id": "external-mayor",
   "metadata": {
    "id": "GPjD3In6ktC8"
   },
   "source": [
    "## MSE"
   ]
  },
  {
   "cell_type": "code",
   "execution_count": 52,
   "id": "widespread-softball",
   "metadata": {
    "id": "HSzs5d3LktC9"
   },
   "outputs": [],
   "source": [
    "mse_GRU= mean_squared_error(y_test_multi, predict_GRU)"
   ]
  },
  {
   "cell_type": "code",
   "execution_count": 53,
   "id": "gorgeous-marketplace",
   "metadata": {
    "colab": {
     "base_uri": "https://localhost:8080/"
    },
    "id": "Y6tZyYZjktC-",
    "outputId": "27d42f3f-03b4-42d8-8cd3-6cc2ae06fd74"
   },
   "outputs": [
    {
     "data": {
      "text/plain": [
       "0.00010782485185452052"
      ]
     },
     "execution_count": 53,
     "metadata": {},
     "output_type": "execute_result"
    }
   ],
   "source": [
    "mse_GRU"
   ]
  },
  {
   "cell_type": "markdown",
   "id": "united-mason",
   "metadata": {
    "id": "NX_IpKmpktC_"
   },
   "source": [
    "## Inverse Prediction"
   ]
  },
  {
   "cell_type": "code",
   "execution_count": 54,
   "id": "genuine-medicine",
   "metadata": {
    "id": "a8r2gylKktC_"
   },
   "outputs": [],
   "source": [
    "predict_GRU_inv=scaler_y.inverse_transform(predict_GRU)\n",
    "#y_test_single_inv=scaler.inverse_transform(y_test_single)"
   ]
  },
  {
   "cell_type": "code",
   "execution_count": 55,
   "id": "intellectual-geography",
   "metadata": {
    "colab": {
     "base_uri": "https://localhost:8080/",
     "height": 609
    },
    "id": "36knt6bFktC_",
    "outputId": "f586aaad-8b91-4642-e48b-f7f7a277294c"
   },
   "outputs": [
    {
     "data": {
      "text/plain": [
       "<matplotlib.legend.Legend at 0x191e8338df0>"
      ]
     },
     "execution_count": 55,
     "metadata": {},
     "output_type": "execute_result"
    },
    {
     "data": {
      "image/png": "[encoded data removed]",
      "text/plain": [
       "<Figure size 1080x720 with 1 Axes>"
      ]
     },
     "metadata": {
      "needs_background": "light"
     },
     "output_type": "display_data"
    }
   ],
   "source": [
    "fig = plt.figure(figsize = (15,10))\n",
    "plt.plot(y_test_multi_inv[:,2], color='b', label='Real ')\n",
    "plt.plot(predict_GRU_inv[:,2], color='r', label='Predicted ')\n",
    "plt.legend()"
   ]
  },
  {
   "cell_type": "markdown",
   "id": "unauthorized-cooperative",
   "metadata": {
    "id": "Y3otm95sktDA"
   },
   "source": [
    "## predict next step"
   ]
  },
  {
   "cell_type": "code",
   "execution_count": 56,
   "id": "banner-comparison",
   "metadata": {
    "colab": {
     "base_uri": "https://localhost:8080/"
    },
    "id": "3LfIA_uKktDB",
    "outputId": "475f732e-65c5-4e2c-d32e-75c4470d760e"
   },
   "outputs": [
    {
     "name": "stdout",
     "output_type": "stream",
     "text": [
      "1/1 [==============================] - 0s 51ms/step\n"
     ]
    },
    {
     "data": {
      "text/plain": [
       "(1, 3)"
      ]
     },
     "execution_count": 56,
     "metadata": {},
     "output_type": "execute_result"
    }
   ],
   "source": [
    "next_step_GRU=GRU_model.predict(input_samples)\n",
    "next_step_GRU.shape"
   ]
  },
  {
   "cell_type": "code",
   "execution_count": 57,
   "id": "closing-month",
   "metadata": {
    "colab": {
     "base_uri": "https://localhost:8080/"
    },
    "id": "tdqF1z33ktDC",
    "outputId": "7780e38a-d873-409e-b172-f58dd1ce7d60"
   },
   "outputs": [
    {
     "data": {
      "text/plain": [
       "array([[0.18800989, 0.1905883 , 0.19257742]], dtype=float32)"
      ]
     },
     "execution_count": 57,
     "metadata": {},
     "output_type": "execute_result"
    }
   ],
   "source": [
    "next_step_GRU"
   ]
  },
  {
   "cell_type": "code",
   "execution_count": 58,
   "id": "respective-tongue",
   "metadata": {
    "id": "VF4CWlT5ktDC"
   },
   "outputs": [],
   "source": [
    "next_step_GRU_inv=scaler_y.inverse_transform(next_step_GRU)"
   ]
  },
  {
   "cell_type": "code",
   "execution_count": 59,
   "id": "outer-harris",
   "metadata": {
    "colab": {
     "base_uri": "https://localhost:8080/"
    },
    "id": "vcXaBv_XktDD",
    "outputId": "9b025884-d3e7-4e60-adb7-3da029ee1682"
   },
   "outputs": [
    {
     "data": {
      "text/plain": [
       "array([[19949.354, 20103.492, 20222.404]], dtype=float32)"
      ]
     },
     "execution_count": 59,
     "metadata": {},
     "output_type": "execute_result"
    }
   ],
   "source": [
    "next_step_GRU_inv"
   ]
  },
  {
   "cell_type": "markdown",
   "id": "mighty-confirmation",
   "metadata": {
    "id": "GfU6NVzhnY8V"
   },
   "source": [
    "# LSTM"
   ]
  },
  {
   "cell_type": "code",
   "execution_count": 60,
   "id": "previous-brand",
   "metadata": {
    "id": "e3Fq8ZGlnY8f"
   },
   "outputs": [],
   "source": [
    "LSTM_model = Sequential()\n",
    "LSTM_model.add(LSTM(50,input_shape=x_train_multi.shape[-2:],activation='relu',return_sequences=True))\n",
    "# LSTM_model.add(Dropout(0.3))\n",
    "LSTM_model.add(LSTM(50,activation='relu',return_sequences=True))\n",
    "# LSTM_model.add(Dropout(0.3))\n",
    "LSTM_model.add(LSTM(50,activation='relu'))\n",
    "# LSTM_model.add(Dropout(0.3))\n",
    "LSTM_model.add(Dense(n_step,activation='selu'))\n",
    "LSTM_model.compile(optimizer='adam', loss='mse')"
   ]
  },
  {
   "cell_type": "code",
   "execution_count": 61,
   "id": "brief-amendment",
   "metadata": {
    "colab": {
     "base_uri": "https://localhost:8080/"
    },
    "id": "q9ku-GF5nY8g",
    "outputId": "6d216bcb-bc72-417d-da07-5e14b444cb90"
   },
   "outputs": [
    {
     "name": "stdout",
     "output_type": "stream",
     "text": [
      "Epoch 1/100\n",
      "249/249 [==============================] - 19s 51ms/step - loss: 0.0188 - val_loss: 8.4132e-04\n",
      "Epoch 2/100\n",
      "249/249 [==============================] - 12s 47ms/step - loss: 0.0012 - val_loss: 6.7720e-04\n",
      "Epoch 3/100\n",
      "249/249 [==============================] - 12s 47ms/step - loss: 0.0010 - val_loss: 4.6516e-04\n",
      "Epoch 4/100\n",
      "249/249 [==============================] - 12s 47ms/step - loss: 9.7851e-04 - val_loss: 5.9484e-04\n",
      "Epoch 5/100\n",
      "249/249 [==============================] - 11s 46ms/step - loss: 8.1932e-04 - val_loss: 4.5367e-04\n",
      "Epoch 6/100\n",
      "249/249 [==============================] - 11s 46ms/step - loss: 7.8830e-04 - val_loss: 4.4629e-04\n",
      "Epoch 7/100\n",
      "249/249 [==============================] - 11s 46ms/step - loss: 7.6474e-04 - val_loss: 2.9920e-04\n",
      "Epoch 8/100\n",
      "249/249 [==============================] - 12s 46ms/step - loss: 6.9913e-04 - val_loss: 3.0447e-04\n",
      "Epoch 9/100\n",
      "249/249 [==============================] - 12s 46ms/step - loss: 5.2733e-04 - val_loss: 2.5630e-04\n",
      "Epoch 10/100\n",
      "249/249 [==============================] - 12s 47ms/step - loss: 5.4657e-04 - val_loss: 2.8848e-04\n",
      "Epoch 11/100\n",
      "249/249 [==============================] - 12s 47ms/step - loss: 4.9823e-04 - val_loss: 3.9368e-04\n",
      "Epoch 12/100\n",
      "249/249 [==============================] - 12s 47ms/step - loss: 4.0989e-04 - val_loss: 2.5170e-04\n",
      "Epoch 13/100\n",
      "249/249 [==============================] - 12s 46ms/step - loss: 4.1974e-04 - val_loss: 3.8613e-04\n",
      "Epoch 14/100\n",
      "249/249 [==============================] - 11s 45ms/step - loss: 3.7962e-04 - val_loss: 4.9087e-04\n",
      "Epoch 15/100\n",
      "249/249 [==============================] - 11s 45ms/step - loss: 3.8814e-04 - val_loss: 1.9338e-04\n",
      "Epoch 16/100\n",
      "249/249 [==============================] - 12s 46ms/step - loss: 3.8977e-04 - val_loss: 1.7877e-04\n",
      "Epoch 17/100\n",
      "249/249 [==============================] - 9s 37ms/step - loss: 4.3194e-04 - val_loss: 1.3379e-04\n",
      "Epoch 18/100\n",
      "249/249 [==============================] - 12s 47ms/step - loss: 3.3348e-04 - val_loss: 1.4553e-04\n",
      "Epoch 19/100\n",
      "249/249 [==============================] - 11s 46ms/step - loss: 3.4754e-04 - val_loss: 8.7030e-04\n",
      "Epoch 20/100\n",
      "249/249 [==============================] - 12s 47ms/step - loss: 3.3063e-04 - val_loss: 3.4068e-04\n",
      "Epoch 21/100\n",
      "249/249 [==============================] - 12s 47ms/step - loss: 3.2297e-04 - val_loss: 1.3525e-04\n",
      "Epoch 22/100\n",
      "249/249 [==============================] - 11s 46ms/step - loss: 3.5689e-04 - val_loss: 2.7641e-04\n",
      "Epoch 23/100\n",
      "249/249 [==============================] - 11s 46ms/step - loss: 3.2014e-04 - val_loss: 1.3326e-04\n",
      "Epoch 24/100\n",
      "249/249 [==============================] - 12s 47ms/step - loss: 3.0588e-04 - val_loss: 1.6676e-04\n",
      "Epoch 25/100\n",
      "249/249 [==============================] - 9s 37ms/step - loss: 3.6214e-04 - val_loss: 3.3062e-04\n",
      "Epoch 26/100\n",
      "249/249 [==============================] - 11s 46ms/step - loss: 3.7907e-04 - val_loss: 1.2581e-04\n",
      "Epoch 27/100\n",
      "249/249 [==============================] - 11s 45ms/step - loss: 2.9752e-04 - val_loss: 1.2283e-04\n",
      "Epoch 28/100\n",
      "249/249 [==============================] - 11s 45ms/step - loss: 3.1343e-04 - val_loss: 1.1960e-04\n",
      "Epoch 29/100\n",
      "249/249 [==============================] - 11s 46ms/step - loss: 3.3606e-04 - val_loss: 1.5166e-04\n",
      "Epoch 30/100\n",
      "249/249 [==============================] - 11s 46ms/step - loss: 2.8120e-04 - val_loss: 1.4677e-04\n",
      "Epoch 31/100\n",
      "249/249 [==============================] - 11s 45ms/step - loss: 2.9861e-04 - val_loss: 4.9712e-04\n",
      "Epoch 32/100\n",
      "249/249 [==============================] - 11s 43ms/step - loss: 3.2540e-04 - val_loss: 1.1460e-04\n",
      "Epoch 33/100\n",
      "249/249 [==============================] - 11s 46ms/step - loss: 3.3098e-04 - val_loss: 2.0253e-04\n",
      "Epoch 34/100\n",
      "249/249 [==============================] - 11s 45ms/step - loss: 3.1734e-04 - val_loss: 7.9235e-04\n",
      "Epoch 35/100\n",
      "249/249 [==============================] - 11s 45ms/step - loss: 3.1475e-04 - val_loss: 1.4201e-04\n",
      "Epoch 36/100\n",
      "249/249 [==============================] - 11s 45ms/step - loss: 3.5705e-04 - val_loss: 1.4987e-04\n",
      "Epoch 37/100\n",
      "249/249 [==============================] - 12s 47ms/step - loss: 2.9849e-04 - val_loss: 1.1577e-04\n",
      "Epoch 38/100\n",
      "249/249 [==============================] - 12s 46ms/step - loss: 2.8526e-04 - val_loss: 2.0544e-04\n",
      "Epoch 39/100\n",
      "249/249 [==============================] - 12s 47ms/step - loss: 3.1610e-04 - val_loss: 1.3147e-04\n",
      "Epoch 40/100\n",
      "249/249 [==============================] - 12s 47ms/step - loss: 3.1148e-04 - val_loss: 1.1860e-04\n",
      "Epoch 41/100\n",
      "249/249 [==============================] - 12s 46ms/step - loss: 3.0400e-04 - val_loss: 1.2642e-04\n",
      "Epoch 42/100\n",
      "249/249 [==============================] - 12s 47ms/step - loss: 3.3140e-04 - val_loss: 1.9760e-04\n",
      "Epoch 43/100\n",
      "249/249 [==============================] - 11s 45ms/step - loss: 3.0290e-04 - val_loss: 1.5831e-04\n",
      "Epoch 44/100\n",
      "249/249 [==============================] - 12s 47ms/step - loss: 3.0568e-04 - val_loss: 1.0879e-04\n",
      "Epoch 45/100\n",
      "249/249 [==============================] - 11s 46ms/step - loss: 2.9726e-04 - val_loss: 1.0954e-04\n",
      "Epoch 46/100\n",
      "249/249 [==============================] - 11s 46ms/step - loss: 3.1289e-04 - val_loss: 1.3789e-04\n",
      "Epoch 47/100\n",
      "249/249 [==============================] - 12s 46ms/step - loss: 2.9813e-04 - val_loss: 1.5123e-04\n",
      "Epoch 48/100\n",
      "249/249 [==============================] - 11s 46ms/step - loss: 2.9957e-04 - val_loss: 1.6851e-04\n",
      "Epoch 49/100\n",
      "249/249 [==============================] - 11s 46ms/step - loss: 3.0152e-04 - val_loss: 1.3012e-04\n",
      "Epoch 50/100\n",
      "249/249 [==============================] - 12s 47ms/step - loss: 3.0048e-04 - val_loss: 2.5867e-04\n",
      "Epoch 51/100\n",
      "249/249 [==============================] - 11s 46ms/step - loss: 2.8284e-04 - val_loss: 1.1425e-04\n",
      "Epoch 52/100\n",
      "249/249 [==============================] - 12s 47ms/step - loss: 2.8531e-04 - val_loss: 1.9744e-04\n",
      "Epoch 53/100\n",
      "249/249 [==============================] - 11s 46ms/step - loss: 2.9484e-04 - val_loss: 1.7238e-04\n",
      "Epoch 54/100\n",
      "249/249 [==============================] - 11s 45ms/step - loss: 3.4534e-04 - val_loss: 1.2916e-04\n",
      "Epoch 55/100\n",
      "249/249 [==============================] - 11s 45ms/step - loss: 2.8509e-04 - val_loss: 1.0361e-04\n",
      "Epoch 56/100\n",
      "249/249 [==============================] - 11s 46ms/step - loss: 2.8426e-04 - val_loss: 1.0606e-04\n",
      "Epoch 57/100\n",
      "249/249 [==============================] - 11s 45ms/step - loss: 2.7537e-04 - val_loss: 1.0680e-04\n",
      "Epoch 58/100\n",
      "249/249 [==============================] - 11s 46ms/step - loss: 2.7176e-04 - val_loss: 1.2549e-04\n",
      "Epoch 59/100\n",
      "249/249 [==============================] - 11s 46ms/step - loss: 2.7840e-04 - val_loss: 1.2209e-04\n",
      "Epoch 60/100\n",
      "249/249 [==============================] - 12s 46ms/step - loss: 2.6136e-04 - val_loss: 1.0842e-04\n",
      "Epoch 61/100\n",
      "249/249 [==============================] - 11s 45ms/step - loss: 2.9204e-04 - val_loss: 1.3969e-04\n",
      "Epoch 62/100\n",
      "249/249 [==============================] - 11s 46ms/step - loss: 2.8411e-04 - val_loss: 2.2782e-04\n",
      "Epoch 63/100\n",
      "249/249 [==============================] - 11s 46ms/step - loss: 2.9012e-04 - val_loss: 1.0694e-04\n",
      "Epoch 64/100\n",
      "249/249 [==============================] - 11s 46ms/step - loss: 2.7897e-04 - val_loss: 1.1633e-04\n",
      "Epoch 65/100\n",
      "249/249 [==============================] - 11s 46ms/step - loss: 3.0501e-04 - val_loss: 1.6932e-04\n",
      "Epoch 66/100\n",
      "249/249 [==============================] - 12s 46ms/step - loss: 2.7856e-04 - val_loss: 2.4370e-04\n",
      "Epoch 67/100\n",
      "249/249 [==============================] - 11s 46ms/step - loss: 2.7491e-04 - val_loss: 9.9412e-05\n",
      "Epoch 68/100\n",
      "249/249 [==============================] - 11s 45ms/step - loss: 2.6746e-04 - val_loss: 1.0064e-04\n",
      "Epoch 69/100\n",
      "249/249 [==============================] - 11s 45ms/step - loss: 2.7754e-04 - val_loss: 1.0808e-04\n",
      "Epoch 70/100\n",
      "249/249 [==============================] - 11s 45ms/step - loss: 2.7016e-04 - val_loss: 1.0959e-04\n",
      "Epoch 71/100\n",
      "249/249 [==============================] - 12s 46ms/step - loss: 2.7724e-04 - val_loss: 1.6279e-04\n",
      "Epoch 72/100\n",
      "249/249 [==============================] - 11s 45ms/step - loss: 2.8156e-04 - val_loss: 1.2119e-04\n",
      "Epoch 73/100\n",
      "249/249 [==============================] - 11s 45ms/step - loss: 3.0602e-04 - val_loss: 1.0468e-04\n",
      "Epoch 74/100\n",
      "249/249 [==============================] - 11s 46ms/step - loss: 2.7819e-04 - val_loss: 1.0671e-04\n",
      "Epoch 75/100\n",
      "249/249 [==============================] - 12s 47ms/step - loss: 2.7563e-04 - val_loss: 1.0665e-04\n",
      "Epoch 76/100\n",
      "249/249 [==============================] - 11s 46ms/step - loss: 2.8197e-04 - val_loss: 1.2745e-04\n",
      "Epoch 77/100\n",
      "249/249 [==============================] - 12s 47ms/step - loss: 2.6987e-04 - val_loss: 9.9340e-05\n",
      "Epoch 78/100\n",
      "249/249 [==============================] - 11s 46ms/step - loss: 2.7989e-04 - val_loss: 1.3844e-04\n",
      "Epoch 79/100\n",
      "249/249 [==============================] - 11s 46ms/step - loss: 2.5258e-04 - val_loss: 1.6151e-04\n",
      "Epoch 80/100\n",
      "249/249 [==============================] - 11s 46ms/step - loss: 2.8429e-04 - val_loss: 1.4168e-04\n",
      "Epoch 81/100\n",
      "249/249 [==============================] - 11s 46ms/step - loss: 2.7485e-04 - val_loss: 1.2121e-04\n",
      "Epoch 82/100\n",
      "249/249 [==============================] - 12s 47ms/step - loss: 2.7368e-04 - val_loss: 1.8319e-04\n",
      "Epoch 83/100\n",
      "249/249 [==============================] - 12s 47ms/step - loss: 3.0202e-04 - val_loss: 2.0880e-04\n",
      "Epoch 84/100\n",
      "249/249 [==============================] - 12s 47ms/step - loss: 2.7652e-04 - val_loss: 1.9441e-04\n",
      "Epoch 85/100\n",
      "249/249 [==============================] - 12s 47ms/step - loss: 2.6145e-04 - val_loss: 1.1735e-04\n",
      "Epoch 86/100\n",
      "249/249 [==============================] - 11s 46ms/step - loss: 2.7418e-04 - val_loss: 1.2507e-04\n",
      "Epoch 87/100\n",
      "249/249 [==============================] - 12s 46ms/step - loss: 3.1092e-04 - val_loss: 1.1581e-04\n",
      "Epoch 88/100\n",
      "249/249 [==============================] - 12s 46ms/step - loss: 2.5339e-04 - val_loss: 1.2260e-04\n",
      "Epoch 89/100\n",
      "249/249 [==============================] - 12s 47ms/step - loss: 2.9093e-04 - val_loss: 1.1799e-04\n",
      "Epoch 90/100\n",
      "249/249 [==============================] - 12s 47ms/step - loss: 2.5507e-04 - val_loss: 1.0256e-04\n",
      "Epoch 91/100\n",
      "249/249 [==============================] - 11s 46ms/step - loss: 2.8006e-04 - val_loss: 2.0035e-04\n",
      "Epoch 92/100\n",
      "249/249 [==============================] - 11s 45ms/step - loss: 2.6442e-04 - val_loss: 1.3965e-04\n",
      "Epoch 93/100\n",
      "249/249 [==============================] - 12s 46ms/step - loss: 2.6972e-04 - val_loss: 1.3226e-04\n",
      "Epoch 94/100\n",
      "249/249 [==============================] - 11s 46ms/step - loss: 2.6803e-04 - val_loss: 1.3125e-04\n",
      "Epoch 95/100\n",
      "249/249 [==============================] - 11s 45ms/step - loss: 2.5838e-04 - val_loss: 2.1524e-04\n",
      "Epoch 96/100\n",
      "249/249 [==============================] - 11s 46ms/step - loss: 2.6721e-04 - val_loss: 1.0335e-04\n",
      "Epoch 97/100\n",
      "249/249 [==============================] - 11s 45ms/step - loss: 2.6524e-04 - val_loss: 1.3134e-04\n",
      "Epoch 98/100\n",
      "249/249 [==============================] - 12s 46ms/step - loss: 2.5940e-04 - val_loss: 1.2195e-04\n",
      "Epoch 99/100\n",
      "249/249 [==============================] - 11s 46ms/step - loss: 2.5140e-04 - val_loss: 1.2397e-04\n",
      "Epoch 100/100\n",
      "249/249 [==============================] - 11s 46ms/step - loss: 2.5637e-04 - val_loss: 1.9865e-04\n"
     ]
    }
   ],
   "source": [
    "history_LSTM=LSTM_model.fit(x_train_multi,y_train_multi,\n",
    "                                            epochs=100,batch_size=16,validation_data=(x_test_multi,y_test_multi))"
   ]
  },
  {
   "cell_type": "markdown",
   "id": "demonstrated-cleanup",
   "metadata": {
    "id": "WGZGInxfnY8h"
   },
   "source": [
    "## learning curve"
   ]
  },
  {
   "cell_type": "code",
   "execution_count": 62,
   "id": "honest-russell",
   "metadata": {
    "colab": {
     "base_uri": "https://localhost:8080/",
     "height": 513
    },
    "id": "JQrlx2_1nY8i",
    "outputId": "b3542f97-4deb-4669-8409-1b6df554cce2"
   },
   "outputs": [
    {
     "data": {
      "image/png": "[encoded data removed]",
      "text/plain": [
       "<Figure size 864x576 with 1 Axes>"
      ]
     },
     "metadata": {
      "needs_background": "light"
     },
     "output_type": "display_data"
    }
   ],
   "source": [
    "plt.figure(figsize=(12,8))\n",
    "plt.plot(history_LSTM.history['loss'])\n",
    "plt.plot(history_LSTM.history['val_loss'])\n",
    "plt.title('model loss')\n",
    "plt.ylabel('loss')\n",
    "plt.xlabel('epoch')\n",
    "plt.legend(['train', 'test'], loc='upper left')\n",
    "plt.show()"
   ]
  },
  {
   "cell_type": "markdown",
   "id": "lasting-terminology",
   "metadata": {
    "id": "mQo9xhxtnY8l"
   },
   "source": [
    "## Predict Test Set"
   ]
  },
  {
   "cell_type": "code",
   "execution_count": 63,
   "id": "exotic-squad",
   "metadata": {
    "id": "GiDUXYb8nY8m"
   },
   "outputs": [
    {
     "name": "stdout",
     "output_type": "stream",
     "text": [
      "31/31 [==============================] - 1s 18ms/step\n"
     ]
    }
   ],
   "source": [
    "predict_LSTM=LSTM_model.predict(x_test_multi)"
   ]
  },
  {
   "cell_type": "code",
   "execution_count": 64,
   "id": "closed-lease",
   "metadata": {
    "colab": {
     "base_uri": "https://localhost:8080/"
    },
    "id": "hNYmikOVnY8n",
    "outputId": "34d3313e-36f5-46cb-f21c-a817c17cf9a7"
   },
   "outputs": [
    {
     "data": {
      "text/plain": [
       "(974, 3)"
      ]
     },
     "execution_count": 64,
     "metadata": {},
     "output_type": "execute_result"
    }
   ],
   "source": [
    "predict_LSTM.shape"
   ]
  },
  {
   "cell_type": "markdown",
   "id": "entertaining-composite",
   "metadata": {
    "id": "neiDG5IDnY8n"
   },
   "source": [
    "## MSE"
   ]
  },
  {
   "cell_type": "code",
   "execution_count": 65,
   "id": "defensive-agriculture",
   "metadata": {
    "id": "5jmmU0NbnY8q"
   },
   "outputs": [],
   "source": [
    "mse_LSTM= mean_squared_error(y_test_multi, predict_LSTM)"
   ]
  },
  {
   "cell_type": "code",
   "execution_count": 66,
   "id": "cloudy-asbestos",
   "metadata": {
    "colab": {
     "base_uri": "https://localhost:8080/"
    },
    "id": "qUtuSWI6nY8r",
    "outputId": "da1ba1a0-a104-4c3a-bf1a-85a6a535f6c5"
   },
   "outputs": [
    {
     "data": {
      "text/plain": [
       "0.00019865339350538054"
      ]
     },
     "execution_count": 66,
     "metadata": {},
     "output_type": "execute_result"
    }
   ],
   "source": [
    "mse_LSTM"
   ]
  },
  {
   "cell_type": "markdown",
   "id": "unknown-spectacular",
   "metadata": {
    "id": "VPq74ivHnY8r"
   },
   "source": [
    "## Inverse Prediction"
   ]
  },
  {
   "cell_type": "code",
   "execution_count": 67,
   "id": "obvious-dimension",
   "metadata": {
    "id": "rIxDh_PynY8s"
   },
   "outputs": [],
   "source": [
    "predict_LSTM_inv=scaler_y.inverse_transform(predict_LSTM)\n",
    "#y_test_single_inv=scaler.inverse_transform(y_test_single)"
   ]
  },
  {
   "cell_type": "code",
   "execution_count": 68,
   "id": "minimal-assurance",
   "metadata": {
    "colab": {
     "base_uri": "https://localhost:8080/",
     "height": 609
    },
    "id": "uKObe356nY8s",
    "outputId": "6f597a33-f02a-4203-c149-2e4f9eff0288"
   },
   "outputs": [
    {
     "data": {
      "text/plain": [
       "<matplotlib.legend.Legend at 0x191f1d39d90>"
      ]
     },
     "execution_count": 68,
     "metadata": {},
     "output_type": "execute_result"
    },
    {
     "data": {
      "image/png": "[encoded data removed]",
      "text/plain": [
       "<Figure size 1080x720 with 1 Axes>"
      ]
     },
     "metadata": {
      "needs_background": "light"
     },
     "output_type": "display_data"
    }
   ],
   "source": [
    "fig = plt.figure(figsize = (15,10))\n",
    "plt.plot(predict_LSTM_inv[:,2], color='r', label='Predicted ')\n",
    "plt.plot(y_test_multi_inv[:,2], color='b', label='Real ')\n",
    "plt.legend()"
   ]
  },
  {
   "cell_type": "markdown",
   "id": "elementary-guyana",
   "metadata": {
    "id": "7QmnQjjWnY8t"
   },
   "source": [
    "## predict next step"
   ]
  },
  {
   "cell_type": "code",
   "execution_count": 69,
   "id": "standing-cambridge",
   "metadata": {
    "colab": {
     "base_uri": "https://localhost:8080/"
    },
    "id": "od-4D-0MnY8u",
    "outputId": "0f714a7d-19ac-4dd4-bc3c-5cbfcf01a3bf"
   },
   "outputs": [
    {
     "name": "stdout",
     "output_type": "stream",
     "text": [
      "1/1 [==============================] - 0s 33ms/step\n"
     ]
    },
    {
     "data": {
      "text/plain": [
       "(1, 3)"
      ]
     },
     "execution_count": 69,
     "metadata": {},
     "output_type": "execute_result"
    }
   ],
   "source": [
    "next_step_LSTM=LSTM_model.predict(input_samples)\n",
    "next_step_LSTM.shape"
   ]
  },
  {
   "cell_type": "code",
   "execution_count": 70,
   "id": "equipped-africa",
   "metadata": {
    "colab": {
     "base_uri": "https://localhost:8080/"
    },
    "id": "PNKQvx8NnY8u",
    "outputId": "9b9ff2b7-974d-42f4-c310-e3992057b5d4"
   },
   "outputs": [
    {
     "data": {
      "text/plain": [
       "array([[0.1979241 , 0.20060234, 0.19941635]], dtype=float32)"
      ]
     },
     "execution_count": 70,
     "metadata": {},
     "output_type": "execute_result"
    }
   ],
   "source": [
    "next_step_LSTM"
   ]
  },
  {
   "cell_type": "code",
   "execution_count": 71,
   "id": "executed-virgin",
   "metadata": {
    "id": "LfC9gEGVnY8v"
   },
   "outputs": [],
   "source": [
    "next_step_LSTM_inv=scaler_y.inverse_transform(next_step_LSTM)"
   ]
  },
  {
   "cell_type": "code",
   "execution_count": 72,
   "id": "impaired-conjunction",
   "metadata": {
    "colab": {
     "base_uri": "https://localhost:8080/"
    },
    "id": "FLzHJDMknY8v",
    "outputId": "d53049a8-ec17-4afa-8f59-736693d10a7e"
   },
   "outputs": [
    {
     "data": {
      "text/plain": [
       "array([[20542.033, 20702.139, 20631.24 ]], dtype=float32)"
      ]
     },
     "execution_count": 72,
     "metadata": {},
     "output_type": "execute_result"
    }
   ],
   "source": [
    "next_step_LSTM_inv"
   ]
  },
  {
   "cell_type": "code",
   "execution_count": null,
   "id": "executive-collective",
   "metadata": {
    "id": "xhFX7QZ6d8D_"
   },
   "outputs": [],
   "source": []
  },
  {
   "cell_type": "markdown",
   "id": "healthy-vacation",
   "metadata": {
    "id": "1J8LurGavoUk"
   },
   "source": [
    "# CNN"
   ]
  },
  {
   "cell_type": "code",
   "execution_count": 73,
   "id": "indirect-imagination",
   "metadata": {
    "id": "VdOTlteaxXLp"
   },
   "outputs": [],
   "source": [
    "from keras.layers import BatchNormalization"
   ]
  },
  {
   "cell_type": "code",
   "execution_count": 74,
   "id": "theoretical-forum",
   "metadata": {
    "id": "hvlHzBHrvoU_"
   },
   "outputs": [],
   "source": [
    "\n",
    "CNN_model= Sequential()\n",
    "CNN_model.add(Conv1D(filters=64, kernel_size=3, activation='relu',input_shape=x_train_multi.shape[-2:]))\n",
    "#CNN_model.add(Dropout(0.2))\n",
    "#CNN_model.add(BatchNormalization())\n",
    "#CNN_model.add(MaxPooling1D(pool_size=2))\n",
    "# CNN_model.add(BatchNormalization())\n",
    "# CNN_model.add(Conv1D(filters=64, kernel_size=3, activation='relu'))\n",
    "# CNN_model.add(Dropout(0.2))\n",
    "# CNN_model.add(BatchNormalization())\n",
    "CNN_model.add(MaxPooling1D(pool_size=3))\n",
    "# CNN_model.add(BatchNormalization())\n",
    "CNN_model.add(Flatten())\n",
    "CNN_model.add(Dense(64, activation='relu'))\n",
    "# CNN_model.add(Dropout(0.2))\n",
    "# CNN_model.add(BatchNormalization())\n",
    "CNN_model.add(Dense(n_step,activation='selu'))\n",
    "CNN_model.compile(loss='mse', optimizer='adam')\n",
    "\n"
   ]
  },
  {
   "cell_type": "code",
   "execution_count": 75,
   "id": "ordered-stylus",
   "metadata": {
    "colab": {
     "base_uri": "https://localhost:8080/"
    },
    "id": "kp6p2bnCvoU_",
    "outputId": "9c8e9d5c-cb86-4c66-ec71-60b729f21455"
   },
   "outputs": [
    {
     "name": "stdout",
     "output_type": "stream",
     "text": [
      "Epoch 1/100\n",
      "249/249 [==============================] - 2s 5ms/step - loss: 0.0046 - val_loss: 6.8402e-04\n",
      "Epoch 2/100\n",
      "249/249 [==============================] - 1s 4ms/step - loss: 9.4781e-04 - val_loss: 5.2323e-04\n",
      "Epoch 3/100\n",
      "249/249 [==============================] - 1s 4ms/step - loss: 7.7463e-04 - val_loss: 8.3735e-04\n",
      "Epoch 4/100\n",
      "249/249 [==============================] - 1s 4ms/step - loss: 6.8403e-04 - val_loss: 3.3683e-04\n",
      "Epoch 5/100\n",
      "249/249 [==============================] - 1s 4ms/step - loss: 5.6863e-04 - val_loss: 1.9362e-04\n",
      "Epoch 6/100\n",
      "249/249 [==============================] - 1s 4ms/step - loss: 5.1658e-04 - val_loss: 3.3152e-04\n",
      "Epoch 7/100\n",
      "249/249 [==============================] - 1s 4ms/step - loss: 4.8114e-04 - val_loss: 2.1288e-04\n",
      "Epoch 8/100\n",
      "249/249 [==============================] - 1s 4ms/step - loss: 3.9649e-04 - val_loss: 2.5742e-04\n",
      "Epoch 9/100\n",
      "249/249 [==============================] - 1s 4ms/step - loss: 4.0294e-04 - val_loss: 1.7329e-04\n",
      "Epoch 10/100\n",
      "249/249 [==============================] - 1s 4ms/step - loss: 4.1349e-04 - val_loss: 1.3966e-04\n",
      "Epoch 11/100\n",
      "249/249 [==============================] - 1s 4ms/step - loss: 3.9678e-04 - val_loss: 1.8536e-04\n",
      "Epoch 12/100\n",
      "249/249 [==============================] - 1s 4ms/step - loss: 4.2330e-04 - val_loss: 2.1168e-04\n",
      "Epoch 13/100\n",
      "249/249 [==============================] - 1s 4ms/step - loss: 3.9953e-04 - val_loss: 1.3988e-04\n",
      "Epoch 14/100\n",
      "249/249 [==============================] - 1s 4ms/step - loss: 3.8148e-04 - val_loss: 1.9605e-04\n",
      "Epoch 15/100\n",
      "249/249 [==============================] - 1s 4ms/step - loss: 4.1540e-04 - val_loss: 2.2482e-04\n",
      "Epoch 16/100\n",
      "249/249 [==============================] - 1s 4ms/step - loss: 4.5319e-04 - val_loss: 1.9590e-04\n",
      "Epoch 17/100\n",
      "249/249 [==============================] - 1s 4ms/step - loss: 3.9520e-04 - val_loss: 1.3856e-04\n",
      "Epoch 18/100\n",
      "249/249 [==============================] - 1s 4ms/step - loss: 3.7036e-04 - val_loss: 1.9591e-04\n",
      "Epoch 19/100\n",
      "249/249 [==============================] - 1s 4ms/step - loss: 3.9942e-04 - val_loss: 1.4206e-04\n",
      "Epoch 20/100\n",
      "249/249 [==============================] - 1s 4ms/step - loss: 3.4944e-04 - val_loss: 1.9943e-04\n",
      "Epoch 21/100\n",
      "249/249 [==============================] - 1s 4ms/step - loss: 3.4100e-04 - val_loss: 1.5591e-04\n",
      "Epoch 22/100\n",
      "249/249 [==============================] - 1s 4ms/step - loss: 3.7799e-04 - val_loss: 1.3945e-04\n",
      "Epoch 23/100\n",
      "249/249 [==============================] - 1s 4ms/step - loss: 3.7621e-04 - val_loss: 1.9023e-04\n",
      "Epoch 24/100\n",
      "249/249 [==============================] - 1s 4ms/step - loss: 3.7888e-04 - val_loss: 1.5201e-04\n",
      "Epoch 25/100\n",
      "249/249 [==============================] - 1s 4ms/step - loss: 3.4421e-04 - val_loss: 1.4325e-04\n",
      "Epoch 26/100\n",
      "249/249 [==============================] - 1s 4ms/step - loss: 3.3875e-04 - val_loss: 1.3980e-04\n",
      "Epoch 27/100\n",
      "249/249 [==============================] - 1s 4ms/step - loss: 3.7024e-04 - val_loss: 2.3835e-04\n",
      "Epoch 28/100\n",
      "249/249 [==============================] - 1s 4ms/step - loss: 3.9522e-04 - val_loss: 1.8480e-04\n",
      "Epoch 29/100\n",
      "249/249 [==============================] - 1s 4ms/step - loss: 3.7585e-04 - val_loss: 1.6096e-04\n",
      "Epoch 30/100\n",
      "249/249 [==============================] - 1s 4ms/step - loss: 3.6997e-04 - val_loss: 2.0135e-04\n",
      "Epoch 31/100\n",
      "249/249 [==============================] - 1s 4ms/step - loss: 3.8821e-04 - val_loss: 2.0130e-04\n",
      "Epoch 32/100\n",
      "249/249 [==============================] - 1s 4ms/step - loss: 3.7553e-04 - val_loss: 1.5852e-04\n",
      "Epoch 33/100\n",
      "249/249 [==============================] - 1s 4ms/step - loss: 3.3803e-04 - val_loss: 1.5722e-04\n",
      "Epoch 34/100\n",
      "249/249 [==============================] - 1s 4ms/step - loss: 3.3413e-04 - val_loss: 1.5531e-04\n",
      "Epoch 35/100\n",
      "249/249 [==============================] - 1s 4ms/step - loss: 4.0770e-04 - val_loss: 1.4511e-04\n",
      "Epoch 36/100\n",
      "249/249 [==============================] - 1s 4ms/step - loss: 3.4181e-04 - val_loss: 1.3625e-04\n",
      "Epoch 37/100\n",
      "249/249 [==============================] - 1s 4ms/step - loss: 3.4882e-04 - val_loss: 2.0734e-04\n",
      "Epoch 38/100\n",
      "249/249 [==============================] - 1s 4ms/step - loss: 3.3321e-04 - val_loss: 1.5505e-04\n",
      "Epoch 39/100\n",
      "249/249 [==============================] - 1s 4ms/step - loss: 3.5595e-04 - val_loss: 1.7567e-04\n",
      "Epoch 40/100\n",
      "249/249 [==============================] - 1s 4ms/step - loss: 3.1308e-04 - val_loss: 1.9208e-04\n",
      "Epoch 41/100\n",
      "249/249 [==============================] - 1s 4ms/step - loss: 3.3104e-04 - val_loss: 1.2476e-04\n",
      "Epoch 42/100\n",
      "249/249 [==============================] - 1s 4ms/step - loss: 3.1654e-04 - val_loss: 1.2125e-04\n",
      "Epoch 43/100\n",
      "249/249 [==============================] - 1s 4ms/step - loss: 3.2062e-04 - val_loss: 1.2719e-04\n",
      "Epoch 44/100\n",
      "249/249 [==============================] - 1s 4ms/step - loss: 3.3735e-04 - val_loss: 1.8887e-04\n",
      "Epoch 45/100\n",
      "249/249 [==============================] - 1s 4ms/step - loss: 3.3236e-04 - val_loss: 1.2668e-04\n",
      "Epoch 46/100\n",
      "249/249 [==============================] - 1s 4ms/step - loss: 3.3376e-04 - val_loss: 1.9503e-04\n",
      "Epoch 47/100\n",
      "249/249 [==============================] - 1s 4ms/step - loss: 3.2490e-04 - val_loss: 1.7192e-04\n",
      "Epoch 48/100\n",
      "249/249 [==============================] - 1s 4ms/step - loss: 3.6405e-04 - val_loss: 1.1625e-04\n",
      "Epoch 49/100\n",
      "249/249 [==============================] - 1s 4ms/step - loss: 3.2284e-04 - val_loss: 2.4974e-04\n",
      "Epoch 50/100\n",
      "249/249 [==============================] - 1s 4ms/step - loss: 3.3567e-04 - val_loss: 2.3426e-04\n",
      "Epoch 51/100\n",
      "249/249 [==============================] - 1s 4ms/step - loss: 3.1412e-04 - val_loss: 1.4542e-04\n",
      "Epoch 52/100\n",
      "249/249 [==============================] - 1s 4ms/step - loss: 3.1914e-04 - val_loss: 1.2895e-04\n",
      "Epoch 53/100\n",
      "249/249 [==============================] - 1s 4ms/step - loss: 3.4191e-04 - val_loss: 2.4387e-04\n",
      "Epoch 54/100\n",
      "249/249 [==============================] - 1s 4ms/step - loss: 3.1081e-04 - val_loss: 1.4976e-04\n",
      "Epoch 55/100\n",
      "249/249 [==============================] - 1s 4ms/step - loss: 3.2150e-04 - val_loss: 1.4984e-04\n",
      "Epoch 56/100\n",
      "249/249 [==============================] - 1s 4ms/step - loss: 3.1216e-04 - val_loss: 1.2576e-04\n",
      "Epoch 57/100\n",
      "249/249 [==============================] - 1s 4ms/step - loss: 3.2076e-04 - val_loss: 1.4647e-04\n",
      "Epoch 58/100\n",
      "249/249 [==============================] - 1s 4ms/step - loss: 3.5706e-04 - val_loss: 1.3758e-04\n",
      "Epoch 59/100\n",
      "249/249 [==============================] - 1s 4ms/step - loss: 3.1006e-04 - val_loss: 3.3362e-04\n",
      "Epoch 60/100\n",
      "249/249 [==============================] - 1s 4ms/step - loss: 3.6051e-04 - val_loss: 3.3103e-04\n",
      "Epoch 61/100\n",
      "249/249 [==============================] - 1s 4ms/step - loss: 3.3250e-04 - val_loss: 1.2795e-04\n",
      "Epoch 62/100\n",
      "249/249 [==============================] - 1s 4ms/step - loss: 3.1097e-04 - val_loss: 1.4079e-04\n",
      "Epoch 63/100\n",
      "249/249 [==============================] - 1s 4ms/step - loss: 3.1848e-04 - val_loss: 1.6653e-04\n",
      "Epoch 64/100\n",
      "249/249 [==============================] - 1s 4ms/step - loss: 3.1175e-04 - val_loss: 2.0736e-04\n",
      "Epoch 65/100\n",
      "249/249 [==============================] - 1s 4ms/step - loss: 3.1154e-04 - val_loss: 2.6926e-04\n",
      "Epoch 66/100\n",
      "249/249 [==============================] - 1s 4ms/step - loss: 2.9817e-04 - val_loss: 1.5183e-04\n",
      "Epoch 67/100\n",
      "249/249 [==============================] - 1s 4ms/step - loss: 2.9880e-04 - val_loss: 1.4332e-04\n",
      "Epoch 68/100\n",
      "249/249 [==============================] - 1s 4ms/step - loss: 3.4010e-04 - val_loss: 2.7041e-04\n",
      "Epoch 69/100\n",
      "249/249 [==============================] - 1s 4ms/step - loss: 3.2776e-04 - val_loss: 1.7985e-04\n",
      "Epoch 70/100\n",
      "249/249 [==============================] - 1s 4ms/step - loss: 3.1712e-04 - val_loss: 1.6787e-04\n",
      "Epoch 71/100\n",
      "249/249 [==============================] - 1s 4ms/step - loss: 3.1460e-04 - val_loss: 1.6249e-04\n",
      "Epoch 72/100\n",
      "249/249 [==============================] - 1s 4ms/step - loss: 2.9809e-04 - val_loss: 2.3839e-04\n",
      "Epoch 73/100\n",
      "249/249 [==============================] - 1s 4ms/step - loss: 3.0993e-04 - val_loss: 2.4753e-04\n",
      "Epoch 74/100\n",
      "249/249 [==============================] - 1s 4ms/step - loss: 2.9969e-04 - val_loss: 1.3392e-04\n",
      "Epoch 75/100\n",
      "249/249 [==============================] - 1s 4ms/step - loss: 3.1416e-04 - val_loss: 1.3219e-04\n",
      "Epoch 76/100\n",
      "249/249 [==============================] - 1s 4ms/step - loss: 3.0387e-04 - val_loss: 1.5864e-04\n",
      "Epoch 77/100\n",
      "249/249 [==============================] - 1s 4ms/step - loss: 3.1752e-04 - val_loss: 1.3240e-04\n",
      "Epoch 78/100\n",
      "249/249 [==============================] - 1s 4ms/step - loss: 2.9167e-04 - val_loss: 2.2792e-04\n",
      "Epoch 79/100\n",
      "249/249 [==============================] - 1s 4ms/step - loss: 3.1143e-04 - val_loss: 1.4583e-04\n",
      "Epoch 80/100\n",
      "249/249 [==============================] - 1s 4ms/step - loss: 2.9657e-04 - val_loss: 1.7581e-04\n",
      "Epoch 81/100\n",
      "249/249 [==============================] - 1s 4ms/step - loss: 2.8525e-04 - val_loss: 1.5828e-04\n",
      "Epoch 82/100\n",
      "249/249 [==============================] - 1s 4ms/step - loss: 3.0076e-04 - val_loss: 1.3234e-04\n",
      "Epoch 83/100\n",
      "249/249 [==============================] - 1s 4ms/step - loss: 3.0387e-04 - val_loss: 2.1556e-04\n",
      "Epoch 84/100\n",
      "249/249 [==============================] - 1s 4ms/step - loss: 3.0885e-04 - val_loss: 1.4700e-04\n",
      "Epoch 85/100\n",
      "249/249 [==============================] - 1s 4ms/step - loss: 2.9838e-04 - val_loss: 1.2754e-04\n",
      "Epoch 86/100\n",
      "249/249 [==============================] - 1s 4ms/step - loss: 3.0169e-04 - val_loss: 1.3122e-04\n",
      "Epoch 87/100\n",
      "249/249 [==============================] - 1s 4ms/step - loss: 3.0956e-04 - val_loss: 1.3128e-04\n",
      "Epoch 88/100\n",
      "249/249 [==============================] - 1s 4ms/step - loss: 2.8482e-04 - val_loss: 2.2401e-04\n",
      "Epoch 89/100\n",
      "249/249 [==============================] - 1s 4ms/step - loss: 3.0339e-04 - val_loss: 1.8990e-04\n",
      "Epoch 90/100\n",
      "249/249 [==============================] - 1s 4ms/step - loss: 2.9996e-04 - val_loss: 2.6884e-04\n",
      "Epoch 91/100\n",
      "249/249 [==============================] - 1s 4ms/step - loss: 3.0549e-04 - val_loss: 1.3532e-04\n",
      "Epoch 92/100\n",
      "249/249 [==============================] - 1s 4ms/step - loss: 3.0336e-04 - val_loss: 1.3791e-04\n",
      "Epoch 93/100\n",
      "249/249 [==============================] - 1s 4ms/step - loss: 3.0228e-04 - val_loss: 1.2686e-04\n",
      "Epoch 94/100\n",
      "249/249 [==============================] - 1s 4ms/step - loss: 2.8723e-04 - val_loss: 1.5603e-04\n",
      "Epoch 95/100\n",
      "249/249 [==============================] - 1s 4ms/step - loss: 3.1649e-04 - val_loss: 1.3400e-04\n",
      "Epoch 96/100\n",
      "249/249 [==============================] - 1s 4ms/step - loss: 2.9553e-04 - val_loss: 1.5211e-04\n",
      "Epoch 97/100\n",
      "249/249 [==============================] - 1s 4ms/step - loss: 3.0738e-04 - val_loss: 2.2735e-04\n",
      "Epoch 98/100\n",
      "249/249 [==============================] - 1s 4ms/step - loss: 2.9207e-04 - val_loss: 1.3719e-04\n",
      "Epoch 99/100\n",
      "249/249 [==============================] - 1s 4ms/step - loss: 2.9300e-04 - val_loss: 2.4608e-04\n",
      "Epoch 100/100\n",
      "249/249 [==============================] - 1s 4ms/step - loss: 2.8727e-04 - val_loss: 1.6674e-04\n"
     ]
    }
   ],
   "source": [
    "history_CNN=CNN_model.fit(x_train_multi,y_train_multi,\n",
    "                                            epochs=100,batch_size=16,validation_data=(x_test_multi,y_test_multi))"
   ]
  },
  {
   "cell_type": "markdown",
   "id": "transsexual-emerald",
   "metadata": {
    "id": "j6lDhR5yvoVB"
   },
   "source": [
    "## learning curve"
   ]
  },
  {
   "cell_type": "code",
   "execution_count": 76,
   "id": "played-balance",
   "metadata": {
    "colab": {
     "base_uri": "https://localhost:8080/",
     "height": 513
    },
    "id": "ubJQXcNOvoVB",
    "outputId": "dd046c1d-f5ac-4fe3-b8f8-60f3a13083fc"
   },
   "outputs": [
    {
     "data": {
      "image/png": "[encoded data removed]",
      "text/plain": [
       "<Figure size 864x576 with 1 Axes>"
      ]
     },
     "metadata": {
      "needs_background": "light"
     },
     "output_type": "display_data"
    }
   ],
   "source": [
    "plt.figure(figsize=(12,8))\n",
    "plt.plot(history_CNN.history['loss'])\n",
    "plt.plot(history_CNN.history['val_loss'])\n",
    "plt.title('model loss')\n",
    "plt.ylabel('loss')\n",
    "plt.xlabel('epoch')\n",
    "plt.legend(['train', 'test'], loc='upper left')\n",
    "plt.show()"
   ]
  },
  {
   "cell_type": "markdown",
   "id": "fitted-guard",
   "metadata": {
    "id": "eae92Py3voVC"
   },
   "source": [
    "## Predict Test Set"
   ]
  },
  {
   "cell_type": "code",
   "execution_count": 77,
   "id": "novel-island",
   "metadata": {
    "id": "jblhGYW6voVD"
   },
   "outputs": [
    {
     "name": "stdout",
     "output_type": "stream",
     "text": [
      "31/31 [==============================] - 0s 3ms/step\n"
     ]
    }
   ],
   "source": [
    "predict_CNN=CNN_model.predict(x_test_multi)"
   ]
  },
  {
   "cell_type": "code",
   "execution_count": 78,
   "id": "massive-attribute",
   "metadata": {
    "colab": {
     "base_uri": "https://localhost:8080/"
    },
    "id": "ZI3AeIC7voVD",
    "outputId": "4a252ed3-1733-4965-c5dc-ba686354e68f"
   },
   "outputs": [
    {
     "data": {
      "text/plain": [
       "(974, 3)"
      ]
     },
     "execution_count": 78,
     "metadata": {},
     "output_type": "execute_result"
    }
   ],
   "source": [
    "predict_CNN.shape"
   ]
  },
  {
   "cell_type": "markdown",
   "id": "cardiac-jaguar",
   "metadata": {
    "id": "9s71HBNhvoVE"
   },
   "source": [
    "## MSE"
   ]
  },
  {
   "cell_type": "code",
   "execution_count": 79,
   "id": "corrected-fireplace",
   "metadata": {
    "id": "ZHBkMdaxvoVH"
   },
   "outputs": [],
   "source": [
    "mse_CNN= mean_squared_error(y_test_multi, predict_CNN)"
   ]
  },
  {
   "cell_type": "code",
   "execution_count": 80,
   "id": "radical-saturn",
   "metadata": {
    "colab": {
     "base_uri": "https://localhost:8080/"
    },
    "id": "12z672eMvoVI",
    "outputId": "93706292-76c5-4f8c-d1af-ea3ffee6a060"
   },
   "outputs": [
    {
     "data": {
      "text/plain": [
       "0.00016673640441383313"
      ]
     },
     "execution_count": 80,
     "metadata": {},
     "output_type": "execute_result"
    }
   ],
   "source": [
    "mse_CNN"
   ]
  },
  {
   "cell_type": "markdown",
   "id": "committed-fashion",
   "metadata": {
    "id": "6mRvWRfAvoVI"
   },
   "source": [
    "## Inverse Prediction"
   ]
  },
  {
   "cell_type": "code",
   "execution_count": 81,
   "id": "lesser-unknown",
   "metadata": {
    "id": "mqULcEWqvoVJ"
   },
   "outputs": [],
   "source": [
    "predict_CNN_inv=scaler_y.inverse_transform(predict_CNN)\n",
    "# y_test_single_inv=scaler.inverse_transform(y_test_single)"
   ]
  },
  {
   "cell_type": "code",
   "execution_count": 82,
   "id": "south-queensland",
   "metadata": {
    "colab": {
     "base_uri": "https://localhost:8080/",
     "height": 609
    },
    "id": "1v9E5u3bvoVJ",
    "outputId": "57efd55d-3ef1-49d0-f317-23527d35559f"
   },
   "outputs": [
    {
     "data": {
      "text/plain": [
       "<matplotlib.legend.Legend at 0x191eb6c61c0>"
      ]
     },
     "execution_count": 82,
     "metadata": {},
     "output_type": "execute_result"
    },
    {
     "data": {
      "image/png": "[encoded data removed]",
      "text/plain": [
       "<Figure size 1080x720 with 1 Axes>"
      ]
     },
     "metadata": {
      "needs_background": "light"
     },
     "output_type": "display_data"
    }
   ],
   "source": [
    "fig = plt.figure(figsize = (15,10))\n",
    "plt.plot(predict_CNN_inv[:,2], color='r', label='Predicted')\n",
    "plt.plot(y_test_multi_inv[:,2], color='b', label='Real')\n",
    "plt.legend()"
   ]
  },
  {
   "cell_type": "markdown",
   "id": "boxed-instruction",
   "metadata": {
    "id": "yUXc_EGevoVK"
   },
   "source": [
    "## predict next step"
   ]
  },
  {
   "cell_type": "code",
   "execution_count": 83,
   "id": "alive-tackle",
   "metadata": {
    "colab": {
     "base_uri": "https://localhost:8080/"
    },
    "id": "0qiwXAGovoVL",
    "outputId": "0364c18e-03dd-408c-db3c-9547100da561"
   },
   "outputs": [
    {
     "data": {
      "text/plain": [
       "(1, 23, 4)"
      ]
     },
     "execution_count": 83,
     "metadata": {},
     "output_type": "execute_result"
    }
   ],
   "source": [
    "input_samples=x_test_multi[-1:,:,:]\n",
    "input_samples.shape"
   ]
  },
  {
   "cell_type": "code",
   "execution_count": 84,
   "id": "cross-ghost",
   "metadata": {
    "colab": {
     "base_uri": "https://localhost:8080/"
    },
    "id": "tUcDBC_YvoVL",
    "outputId": "49a63e1c-a3ec-4e51-d63e-668e8bcde90d"
   },
   "outputs": [
    {
     "name": "stdout",
     "output_type": "stream",
     "text": [
      "1/1 [==============================] - 0s 34ms/step\n"
     ]
    },
    {
     "data": {
      "text/plain": [
       "(1, 3)"
      ]
     },
     "execution_count": 84,
     "metadata": {},
     "output_type": "execute_result"
    }
   ],
   "source": [
    "next_step_RNN=RNN_model.predict(input_samples)\n",
    "next_step_RNN.shape"
   ]
  },
  {
   "cell_type": "code",
   "execution_count": 85,
   "id": "designed-environment",
   "metadata": {
    "colab": {
     "base_uri": "https://localhost:8080/"
    },
    "id": "dfQA6HjqvoVM",
    "outputId": "348dbc08-dc84-45ee-d0ea-47ce49f2c806"
   },
   "outputs": [
    {
     "data": {
      "text/plain": [
       "array([[0.18371922, 0.18882973, 0.18696232]], dtype=float32)"
      ]
     },
     "execution_count": 85,
     "metadata": {},
     "output_type": "execute_result"
    }
   ],
   "source": [
    "next_step_RNN"
   ]
  },
  {
   "cell_type": "code",
   "execution_count": 86,
   "id": "false-brunswick",
   "metadata": {
    "id": "KP-S1wg7voVM"
   },
   "outputs": [],
   "source": [
    "next_step_RNN_inv=scaler_y.inverse_transform(next_step_RNN)"
   ]
  },
  {
   "cell_type": "code",
   "execution_count": 87,
   "id": "norman-gallery",
   "metadata": {
    "colab": {
     "base_uri": "https://localhost:8080/"
    },
    "id": "5nhHTiO_voVN",
    "outputId": "41228865-542c-4853-80c7-2ff1d315c143"
   },
   "outputs": [
    {
     "data": {
      "text/plain": [
       "array([[19692.855, 19998.365, 19886.73 ]], dtype=float32)"
      ]
     },
     "execution_count": 87,
     "metadata": {},
     "output_type": "execute_result"
    }
   ],
   "source": [
    "next_step_RNN_inv"
   ]
  },
  {
   "cell_type": "code",
   "execution_count": null,
   "id": "latin-stocks",
   "metadata": {
    "id": "7C9sCWXg0wCm"
   },
   "outputs": [],
   "source": []
  },
  {
   "cell_type": "markdown",
   "id": "inner-robin",
   "metadata": {
    "id": "GGgcdRUq0096"
   },
   "source": [
    "# MLP"
   ]
  },
  {
   "cell_type": "code",
   "execution_count": 88,
   "id": "particular-walker",
   "metadata": {
    "id": "rRmEz9eu05y9"
   },
   "outputs": [],
   "source": [
    "x_train_multi_2d=x_train_multi.reshape(x_train_multi.shape[0],x_train_multi.shape[1]*x_train_multi.shape[2])\n",
    "x_test_multi_2d=x_test_multi.reshape(x_test_multi.shape[0],x_test_multi.shape[1]*x_test_multi.shape[2])"
   ]
  },
  {
   "cell_type": "code",
   "execution_count": 89,
   "id": "organizational-trainer",
   "metadata": {
    "id": "p23mzN1O0097"
   },
   "outputs": [],
   "source": [
    "MLP_model = Sequential()\n",
    "MLP_model.add(Dense(100, activation='relu', input_dim=x_train_multi_2d.shape[1]))\n",
    "MLP_model.add(Dense(60, activation='relu'))\n",
    "MLP_model.add(Dense(40, activation='relu'))\n",
    "MLP_model.add(Dense(40, activation='relu'))\n",
    "MLP_model.add(Dense(40, activation='relu'))\n",
    "MLP_model.add(Dense(50, activation='relu'))\n",
    "\n",
    "MLP_model.add(Dense(n_step,activation='selu'))\n",
    "MLP_model.compile(loss='mse', optimizer='adam')"
   ]
  },
  {
   "cell_type": "code",
   "execution_count": 90,
   "id": "equipped-rouge",
   "metadata": {
    "colab": {
     "base_uri": "https://localhost:8080/"
    },
    "id": "2q0wG_-k0098",
    "outputId": "840a3a69-d5eb-4992-9ba8-6dfdf8f15178"
   },
   "outputs": [
    {
     "name": "stdout",
     "output_type": "stream",
     "text": [
      "Epoch 1/100\n",
      "249/249 [==============================] - 2s 5ms/step - loss: 0.0080 - val_loss: 4.3990e-04\n",
      "Epoch 2/100\n",
      "249/249 [==============================] - 1s 4ms/step - loss: 6.2144e-04 - val_loss: 3.8130e-04\n",
      "Epoch 3/100\n",
      "249/249 [==============================] - 1s 4ms/step - loss: 5.3780e-04 - val_loss: 2.5708e-04\n",
      "Epoch 4/100\n",
      "249/249 [==============================] - 1s 4ms/step - loss: 5.4396e-04 - val_loss: 1.6197e-04\n",
      "Epoch 5/100\n",
      "249/249 [==============================] - 1s 4ms/step - loss: 6.1515e-04 - val_loss: 1.6387e-04\n",
      "Epoch 6/100\n",
      "249/249 [==============================] - 1s 4ms/step - loss: 4.4667e-04 - val_loss: 1.5461e-04\n",
      "Epoch 7/100\n",
      "249/249 [==============================] - 1s 4ms/step - loss: 5.1427e-04 - val_loss: 1.9863e-04\n",
      "Epoch 8/100\n",
      "249/249 [==============================] - 1s 4ms/step - loss: 4.9832e-04 - val_loss: 3.0370e-04\n",
      "Epoch 9/100\n",
      "249/249 [==============================] - 1s 4ms/step - loss: 5.0464e-04 - val_loss: 1.8078e-04\n",
      "Epoch 10/100\n",
      "249/249 [==============================] - 1s 4ms/step - loss: 4.3147e-04 - val_loss: 1.5262e-04\n",
      "Epoch 11/100\n",
      "249/249 [==============================] - 1s 4ms/step - loss: 4.0700e-04 - val_loss: 2.3599e-04\n",
      "Epoch 12/100\n",
      "249/249 [==============================] - 1s 4ms/step - loss: 4.0845e-04 - val_loss: 1.5608e-04\n",
      "Epoch 13/100\n",
      "249/249 [==============================] - 1s 4ms/step - loss: 5.0453e-04 - val_loss: 1.8020e-04\n",
      "Epoch 14/100\n",
      "249/249 [==============================] - 1s 4ms/step - loss: 5.1572e-04 - val_loss: 1.7084e-04\n",
      "Epoch 15/100\n",
      "249/249 [==============================] - 1s 4ms/step - loss: 4.2725e-04 - val_loss: 2.2103e-04\n",
      "Epoch 16/100\n",
      "249/249 [==============================] - 1s 4ms/step - loss: 4.3373e-04 - val_loss: 2.8870e-04\n",
      "Epoch 17/100\n",
      "249/249 [==============================] - 1s 4ms/step - loss: 4.5047e-04 - val_loss: 1.6604e-04\n",
      "Epoch 18/100\n",
      "249/249 [==============================] - 1s 4ms/step - loss: 4.7267e-04 - val_loss: 3.7204e-04\n",
      "Epoch 19/100\n",
      "249/249 [==============================] - 1s 4ms/step - loss: 4.9418e-04 - val_loss: 2.8651e-04\n",
      "Epoch 20/100\n",
      "249/249 [==============================] - 1s 4ms/step - loss: 4.8661e-04 - val_loss: 3.6920e-04\n",
      "Epoch 21/100\n",
      "249/249 [==============================] - 1s 4ms/step - loss: 4.5466e-04 - val_loss: 1.3014e-04\n",
      "Epoch 22/100\n",
      "249/249 [==============================] - 1s 4ms/step - loss: 4.2326e-04 - val_loss: 1.4322e-04\n",
      "Epoch 23/100\n",
      "249/249 [==============================] - 1s 4ms/step - loss: 4.2442e-04 - val_loss: 1.4667e-04\n",
      "Epoch 24/100\n",
      "249/249 [==============================] - 1s 4ms/step - loss: 3.7562e-04 - val_loss: 1.3514e-04\n",
      "Epoch 25/100\n",
      "249/249 [==============================] - 1s 4ms/step - loss: 4.1482e-04 - val_loss: 2.0971e-04\n",
      "Epoch 26/100\n",
      "249/249 [==============================] - 1s 4ms/step - loss: 4.7541e-04 - val_loss: 3.7032e-04\n",
      "Epoch 27/100\n",
      "249/249 [==============================] - 1s 4ms/step - loss: 4.1015e-04 - val_loss: 2.1372e-04\n",
      "Epoch 28/100\n",
      "249/249 [==============================] - 1s 4ms/step - loss: 3.9412e-04 - val_loss: 1.3421e-04\n",
      "Epoch 29/100\n",
      "249/249 [==============================] - 1s 4ms/step - loss: 4.3082e-04 - val_loss: 2.1392e-04\n",
      "Epoch 30/100\n",
      "249/249 [==============================] - 1s 3ms/step - loss: 4.1830e-04 - val_loss: 1.3791e-04\n",
      "Epoch 31/100\n",
      "249/249 [==============================] - 1s 3ms/step - loss: 4.4158e-04 - val_loss: 1.5203e-04\n",
      "Epoch 32/100\n",
      "249/249 [==============================] - 1s 3ms/step - loss: 4.2001e-04 - val_loss: 1.5249e-04\n",
      "Epoch 33/100\n",
      "249/249 [==============================] - 1s 3ms/step - loss: 3.9537e-04 - val_loss: 6.8955e-04\n",
      "Epoch 34/100\n",
      "249/249 [==============================] - 1s 3ms/step - loss: 4.3836e-04 - val_loss: 2.0430e-04\n",
      "Epoch 35/100\n",
      "249/249 [==============================] - 1s 3ms/step - loss: 3.7973e-04 - val_loss: 1.5618e-04\n",
      "Epoch 36/100\n",
      "249/249 [==============================] - 1s 4ms/step - loss: 3.8706e-04 - val_loss: 1.9909e-04\n",
      "Epoch 37/100\n",
      "249/249 [==============================] - 1s 3ms/step - loss: 4.4092e-04 - val_loss: 1.7645e-04\n",
      "Epoch 38/100\n",
      "249/249 [==============================] - 1s 4ms/step - loss: 4.0115e-04 - val_loss: 1.3142e-04\n",
      "Epoch 39/100\n",
      "249/249 [==============================] - 1s 3ms/step - loss: 3.7642e-04 - val_loss: 1.5586e-04\n",
      "Epoch 40/100\n",
      "249/249 [==============================] - 1s 3ms/step - loss: 3.4731e-04 - val_loss: 1.5271e-04\n",
      "Epoch 41/100\n",
      "249/249 [==============================] - 1s 3ms/step - loss: 3.8646e-04 - val_loss: 1.6908e-04\n",
      "Epoch 42/100\n",
      "249/249 [==============================] - 1s 4ms/step - loss: 3.7018e-04 - val_loss: 4.6588e-04\n",
      "Epoch 43/100\n",
      "249/249 [==============================] - 1s 3ms/step - loss: 3.9070e-04 - val_loss: 1.7757e-04\n",
      "Epoch 44/100\n",
      "249/249 [==============================] - 1s 3ms/step - loss: 3.7265e-04 - val_loss: 1.3784e-04\n",
      "Epoch 45/100\n",
      "249/249 [==============================] - 1s 3ms/step - loss: 3.4008e-04 - val_loss: 1.5893e-04\n",
      "Epoch 46/100\n",
      "249/249 [==============================] - 1s 3ms/step - loss: 3.6558e-04 - val_loss: 1.3310e-04\n",
      "Epoch 47/100\n",
      "249/249 [==============================] - 1s 3ms/step - loss: 4.4927e-04 - val_loss: 1.5292e-04\n",
      "Epoch 48/100\n",
      "249/249 [==============================] - 1s 4ms/step - loss: 3.8117e-04 - val_loss: 1.3542e-04\n",
      "Epoch 49/100\n",
      "249/249 [==============================] - 1s 3ms/step - loss: 3.6404e-04 - val_loss: 2.3478e-04\n",
      "Epoch 50/100\n",
      "249/249 [==============================] - 1s 3ms/step - loss: 3.7337e-04 - val_loss: 3.7537e-04\n",
      "Epoch 51/100\n",
      "249/249 [==============================] - 1s 3ms/step - loss: 3.2632e-04 - val_loss: 1.9091e-04\n",
      "Epoch 52/100\n",
      "249/249 [==============================] - 1s 3ms/step - loss: 3.6190e-04 - val_loss: 1.1655e-04\n",
      "Epoch 53/100\n",
      "249/249 [==============================] - 1s 3ms/step - loss: 3.8363e-04 - val_loss: 2.0061e-04\n",
      "Epoch 54/100\n",
      "249/249 [==============================] - 1s 3ms/step - loss: 3.7976e-04 - val_loss: 1.9182e-04\n",
      "Epoch 55/100\n",
      "249/249 [==============================] - 1s 4ms/step - loss: 4.0136e-04 - val_loss: 1.4416e-04\n",
      "Epoch 56/100\n",
      "249/249 [==============================] - 1s 4ms/step - loss: 3.2097e-04 - val_loss: 2.6773e-04\n",
      "Epoch 57/100\n",
      "249/249 [==============================] - 1s 4ms/step - loss: 3.7960e-04 - val_loss: 1.2270e-04\n",
      "Epoch 58/100\n",
      "249/249 [==============================] - 1s 4ms/step - loss: 3.4362e-04 - val_loss: 2.1205e-04\n",
      "Epoch 59/100\n",
      "249/249 [==============================] - 1s 4ms/step - loss: 3.6290e-04 - val_loss: 1.3450e-04\n",
      "Epoch 60/100\n",
      "249/249 [==============================] - 1s 4ms/step - loss: 3.5587e-04 - val_loss: 2.4504e-04\n",
      "Epoch 61/100\n",
      "249/249 [==============================] - 1s 3ms/step - loss: 3.5125e-04 - val_loss: 1.4022e-04\n",
      "Epoch 62/100\n",
      "249/249 [==============================] - 1s 4ms/step - loss: 3.5679e-04 - val_loss: 1.3227e-04\n",
      "Epoch 63/100\n",
      "249/249 [==============================] - 1s 4ms/step - loss: 3.1722e-04 - val_loss: 1.5271e-04\n",
      "Epoch 64/100\n",
      "249/249 [==============================] - 1s 4ms/step - loss: 4.2643e-04 - val_loss: 1.7222e-04\n",
      "Epoch 65/100\n",
      "249/249 [==============================] - 1s 4ms/step - loss: 3.5291e-04 - val_loss: 1.3595e-04\n",
      "Epoch 66/100\n",
      "249/249 [==============================] - 1s 4ms/step - loss: 3.7410e-04 - val_loss: 1.1836e-04\n",
      "Epoch 67/100\n",
      "249/249 [==============================] - 1s 3ms/step - loss: 3.1511e-04 - val_loss: 1.2098e-04\n",
      "Epoch 68/100\n",
      "249/249 [==============================] - 1s 3ms/step - loss: 3.4506e-04 - val_loss: 1.3239e-04\n",
      "Epoch 69/100\n",
      "249/249 [==============================] - 1s 3ms/step - loss: 4.0675e-04 - val_loss: 1.6901e-04\n",
      "Epoch 70/100\n",
      "249/249 [==============================] - 1s 3ms/step - loss: 3.6546e-04 - val_loss: 2.3674e-04\n",
      "Epoch 71/100\n",
      "249/249 [==============================] - 1s 3ms/step - loss: 3.9052e-04 - val_loss: 1.2486e-04\n",
      "Epoch 72/100\n",
      "249/249 [==============================] - 1s 3ms/step - loss: 3.2425e-04 - val_loss: 1.1905e-04\n",
      "Epoch 73/100\n",
      "249/249 [==============================] - 1s 3ms/step - loss: 3.3034e-04 - val_loss: 1.1755e-04\n",
      "Epoch 74/100\n",
      "249/249 [==============================] - 1s 3ms/step - loss: 3.2062e-04 - val_loss: 1.6086e-04\n",
      "Epoch 75/100\n",
      "249/249 [==============================] - 1s 3ms/step - loss: 3.6883e-04 - val_loss: 1.4083e-04\n",
      "Epoch 76/100\n",
      "249/249 [==============================] - 1s 4ms/step - loss: 3.4015e-04 - val_loss: 1.2463e-04\n",
      "Epoch 77/100\n",
      "249/249 [==============================] - 1s 3ms/step - loss: 3.3738e-04 - val_loss: 1.3012e-04\n",
      "Epoch 78/100\n",
      "249/249 [==============================] - 1s 4ms/step - loss: 3.3954e-04 - val_loss: 2.9960e-04\n",
      "Epoch 79/100\n",
      "249/249 [==============================] - 1s 3ms/step - loss: 3.4200e-04 - val_loss: 1.2858e-04\n",
      "Epoch 80/100\n",
      "249/249 [==============================] - 1s 4ms/step - loss: 3.4920e-04 - val_loss: 1.5807e-04\n",
      "Epoch 81/100\n",
      "249/249 [==============================] - 1s 4ms/step - loss: 3.4652e-04 - val_loss: 3.3700e-04\n",
      "Epoch 82/100\n",
      "249/249 [==============================] - 1s 4ms/step - loss: 3.5381e-04 - val_loss: 3.6025e-04\n",
      "Epoch 83/100\n",
      "249/249 [==============================] - 1s 3ms/step - loss: 3.3058e-04 - val_loss: 1.6041e-04\n",
      "Epoch 84/100\n",
      "249/249 [==============================] - 1s 3ms/step - loss: 3.4503e-04 - val_loss: 1.4352e-04\n",
      "Epoch 85/100\n",
      "249/249 [==============================] - 1s 3ms/step - loss: 3.2058e-04 - val_loss: 4.1257e-04\n",
      "Epoch 86/100\n",
      "249/249 [==============================] - 1s 3ms/step - loss: 3.3536e-04 - val_loss: 2.1951e-04\n",
      "Epoch 87/100\n",
      "249/249 [==============================] - 1s 4ms/step - loss: 3.4607e-04 - val_loss: 1.3904e-04\n",
      "Epoch 88/100\n",
      "249/249 [==============================] - 1s 4ms/step - loss: 3.5762e-04 - val_loss: 1.7404e-04\n",
      "Epoch 89/100\n",
      "249/249 [==============================] - 1s 3ms/step - loss: 3.4531e-04 - val_loss: 2.0110e-04\n",
      "Epoch 90/100\n",
      "249/249 [==============================] - 1s 4ms/step - loss: 3.2261e-04 - val_loss: 1.2757e-04\n",
      "Epoch 91/100\n",
      "249/249 [==============================] - 1s 3ms/step - loss: 3.4721e-04 - val_loss: 2.2346e-04\n",
      "Epoch 92/100\n",
      "249/249 [==============================] - 1s 3ms/step - loss: 3.7764e-04 - val_loss: 1.2518e-04\n",
      "Epoch 93/100\n",
      "249/249 [==============================] - 1s 4ms/step - loss: 3.2143e-04 - val_loss: 1.2291e-04\n",
      "Epoch 94/100\n",
      "249/249 [==============================] - 1s 3ms/step - loss: 3.6322e-04 - val_loss: 1.4696e-04\n",
      "Epoch 95/100\n",
      "249/249 [==============================] - 1s 4ms/step - loss: 3.4974e-04 - val_loss: 1.8002e-04\n",
      "Epoch 96/100\n",
      "249/249 [==============================] - 1s 3ms/step - loss: 3.0805e-04 - val_loss: 2.1598e-04\n",
      "Epoch 97/100\n",
      "249/249 [==============================] - 1s 3ms/step - loss: 3.1732e-04 - val_loss: 1.2077e-04\n",
      "Epoch 98/100\n",
      "249/249 [==============================] - 1s 3ms/step - loss: 3.3593e-04 - val_loss: 2.9330e-04\n",
      "Epoch 99/100\n",
      "249/249 [==============================] - 1s 3ms/step - loss: 3.3547e-04 - val_loss: 1.3048e-04\n",
      "Epoch 100/100\n",
      "249/249 [==============================] - 1s 3ms/step - loss: 3.7315e-04 - val_loss: 2.2540e-04\n"
     ]
    }
   ],
   "source": [
    "history_MLP=MLP_model.fit(x_train_multi_2d,y_train_multi,\n",
    "                                            epochs=100,batch_size=16,validation_data=(x_test_multi_2d,y_test_multi))"
   ]
  },
  {
   "cell_type": "markdown",
   "id": "pediatric-waters",
   "metadata": {
    "id": "jf9CvFxT0099"
   },
   "source": [
    "## learning curve"
   ]
  },
  {
   "cell_type": "code",
   "execution_count": 91,
   "id": "bound-state",
   "metadata": {
    "colab": {
     "base_uri": "https://localhost:8080/",
     "height": 513
    },
    "id": "tteohW6J0099",
    "outputId": "d7ff7918-62a5-4b12-a036-92cf4929df7f"
   },
   "outputs": [
    {
     "data": {
      "image/png": "[encoded data removed]",
      "text/plain": [
       "<Figure size 864x576 with 1 Axes>"
      ]
     },
     "metadata": {
      "needs_background": "light"
     },
     "output_type": "display_data"
    }
   ],
   "source": [
    "plt.figure(figsize=(12,8))\n",
    "plt.plot(history_MLP.history['loss'])\n",
    "plt.plot(history_MLP.history['val_loss'])\n",
    "plt.title('model loss')\n",
    "plt.ylabel('loss')\n",
    "plt.xlabel('epoch')\n",
    "plt.legend(['train', 'test'], loc='upper left')\n",
    "plt.show()"
   ]
  },
  {
   "cell_type": "markdown",
   "id": "concrete-principal",
   "metadata": {
    "id": "6_mlXlsb009-"
   },
   "source": [
    "## Predict Test Set"
   ]
  },
  {
   "cell_type": "code",
   "execution_count": 92,
   "id": "exceptional-exhaust",
   "metadata": {
    "id": "IpPYk6kg009_"
   },
   "outputs": [
    {
     "name": "stdout",
     "output_type": "stream",
     "text": [
      "31/31 [==============================] - 0s 2ms/step\n"
     ]
    }
   ],
   "source": [
    "\n",
    "predict_MLP=MLP_model.predict(x_test_multi_2d)"
   ]
  },
  {
   "cell_type": "code",
   "execution_count": 93,
   "id": "alone-smooth",
   "metadata": {
    "colab": {
     "base_uri": "https://localhost:8080/"
    },
    "id": "Sp32gvaX00-A",
    "outputId": "8d0e474f-65bd-4a43-924b-2c044fded4b3"
   },
   "outputs": [
    {
     "data": {
      "text/plain": [
       "(974, 3)"
      ]
     },
     "execution_count": 93,
     "metadata": {},
     "output_type": "execute_result"
    }
   ],
   "source": [
    "predict_MLP.shape"
   ]
  },
  {
   "cell_type": "markdown",
   "id": "outer-vision",
   "metadata": {
    "id": "V2dQHx5k00-A"
   },
   "source": [
    "## MSE"
   ]
  },
  {
   "cell_type": "code",
   "execution_count": 94,
   "id": "pleased-production",
   "metadata": {
    "id": "qMOPpO_D00-B"
   },
   "outputs": [],
   "source": [
    "mse_MLP= mean_squared_error(y_test_multi, predict_MLP)"
   ]
  },
  {
   "cell_type": "code",
   "execution_count": 95,
   "id": "improved-pricing",
   "metadata": {
    "colab": {
     "base_uri": "https://localhost:8080/"
    },
    "id": "8ff8A-6v00-C",
    "outputId": "0930c508-d647-436f-fe98-729250df89b8"
   },
   "outputs": [
    {
     "data": {
      "text/plain": [
       "0.00022540419531639426"
      ]
     },
     "execution_count": 95,
     "metadata": {},
     "output_type": "execute_result"
    }
   ],
   "source": [
    "mse_MLP"
   ]
  },
  {
   "cell_type": "markdown",
   "id": "professional-collect",
   "metadata": {
    "id": "VgXS4MrC00-C"
   },
   "source": [
    "## Inverse Prediction"
   ]
  },
  {
   "cell_type": "code",
   "execution_count": 96,
   "id": "atmospheric-store",
   "metadata": {
    "id": "bvZ2QkaP00-D"
   },
   "outputs": [],
   "source": [
    "predict_MLP_inv=scaler_y.inverse_transform(predict_MLP)\n",
    "#y_test_single_inv=scaler.inverse_transform(y_test_single)"
   ]
  },
  {
   "cell_type": "code",
   "execution_count": 97,
   "id": "incomplete-tension",
   "metadata": {
    "colab": {
     "base_uri": "https://localhost:8080/",
     "height": 609
    },
    "id": "M6-N-B0q00-D",
    "outputId": "2b7ea18e-eb34-495e-82de-5f0a90eb4421"
   },
   "outputs": [
    {
     "data": {
      "text/plain": [
       "<matplotlib.legend.Legend at 0x191f219d3a0>"
      ]
     },
     "execution_count": 97,
     "metadata": {},
     "output_type": "execute_result"
    },
    {
     "data": {
      "image/png": "[encoded data removed]",
      "text/plain": [
       "<Figure size 1080x720 with 1 Axes>"
      ]
     },
     "metadata": {
      "needs_background": "light"
     },
     "output_type": "display_data"
    }
   ],
   "source": [
    "fig = plt.figure(figsize = (15,10))\n",
    "plt.plot(predict_MLP_inv[:,2], color='r', label='Predicted')\n",
    "plt.plot(y_test_multi_inv[:,2], color='b', label='Real')\n",
    "plt.legend()"
   ]
  },
  {
   "cell_type": "markdown",
   "id": "stock-wednesday",
   "metadata": {
    "id": "TTu3bepJ00-E"
   },
   "source": [
    "## predict next step"
   ]
  },
  {
   "cell_type": "code",
   "execution_count": 98,
   "id": "secret-detection",
   "metadata": {
    "colab": {
     "base_uri": "https://localhost:8080/"
    },
    "id": "LVGnTlhX00-E",
    "outputId": "ed1647ed-3b8a-4388-973f-b0920e514880"
   },
   "outputs": [
    {
     "data": {
      "text/plain": [
       "(1, 92)"
      ]
     },
     "execution_count": 98,
     "metadata": {},
     "output_type": "execute_result"
    }
   ],
   "source": [
    "input_samples_MLP=x_test_multi_2d[-1:,:]\n",
    "input_samples_MLP.shape"
   ]
  },
  {
   "cell_type": "code",
   "execution_count": 99,
   "id": "front-divorce",
   "metadata": {
    "colab": {
     "base_uri": "https://localhost:8080/"
    },
    "id": "iLq6ahog00-F",
    "outputId": "8d5ec37e-cd87-4868-ea39-976eeac34e3a"
   },
   "outputs": [
    {
     "name": "stdout",
     "output_type": "stream",
     "text": [
      "1/1 [==============================] - 0s 29ms/step\n"
     ]
    },
    {
     "data": {
      "text/plain": [
       "(1, 3)"
      ]
     },
     "execution_count": 99,
     "metadata": {},
     "output_type": "execute_result"
    }
   ],
   "source": [
    "next_step_MLP=MLP_model.predict(input_samples_MLP)\n",
    "next_step_MLP.shape"
   ]
  },
  {
   "cell_type": "code",
   "execution_count": 100,
   "id": "acting-hepatitis",
   "metadata": {
    "colab": {
     "base_uri": "https://localhost:8080/"
    },
    "id": "AZuJRnAE00-G",
    "outputId": "654714a4-45b4-48e1-f8c5-769ff322fe1b"
   },
   "outputs": [
    {
     "data": {
      "text/plain": [
       "array([[0.1978886 , 0.20113319, 0.1980877 ]], dtype=float32)"
      ]
     },
     "execution_count": 100,
     "metadata": {},
     "output_type": "execute_result"
    }
   ],
   "source": [
    "next_step_MLP"
   ]
  },
  {
   "cell_type": "code",
   "execution_count": 101,
   "id": "pressing-thread",
   "metadata": {
    "id": "YDJkWunQ00-G"
   },
   "outputs": [],
   "source": [
    "next_step_MLP_inv=scaler_y.inverse_transform(next_step_MLP)"
   ]
  },
  {
   "cell_type": "code",
   "execution_count": 102,
   "id": "desperate-precipitation",
   "metadata": {
    "colab": {
     "base_uri": "https://localhost:8080/"
    },
    "id": "DLxu080000-H",
    "outputId": "b0f938fb-d50b-4221-95a4-f2f6c0e23e5d"
   },
   "outputs": [
    {
     "data": {
      "text/plain": [
       "array([[20539.91 , 20733.873, 20551.812]], dtype=float32)"
      ]
     },
     "execution_count": 102,
     "metadata": {},
     "output_type": "execute_result"
    }
   ],
   "source": [
    "next_step_MLP_inv"
   ]
  },
  {
   "cell_type": "markdown",
   "id": "polish-saturn",
   "metadata": {
    "id": "obtiv55w3PdY"
   },
   "source": [
    "# Result Comparision"
   ]
  },
  {
   "cell_type": "code",
   "execution_count": 103,
   "id": "unknown-lightning",
   "metadata": {
    "id": "T9hf9K_t00-H"
   },
   "outputs": [],
   "source": [
    "result={'Mlp':mse_MLP,'SimpleRNN':mse_RNN,'GRU':mse_GRU,'LSTM':mse_LSTM,'CNN':mse_CNN}"
   ]
  },
  {
   "cell_type": "code",
   "execution_count": 104,
   "id": "broad-european",
   "metadata": {
    "id": "4GGa4s5W3muB"
   },
   "outputs": [],
   "source": [
    "result=pd.DataFrame.from_dict(result,orient='index')"
   ]
  },
  {
   "cell_type": "code",
   "execution_count": 105,
   "id": "unable-knight",
   "metadata": {
    "colab": {
     "base_uri": "https://localhost:8080/",
     "height": 204
    },
    "id": "9yBqGV4FIpFg",
    "outputId": "928bd8b7-b1f3-4916-b28b-f6b0ca44beb2"
   },
   "outputs": [
    {
     "data": {
      "text/html": [
       "<div>\n",
       "<style scoped>\n",
       "    .dataframe tbody tr th:only-of-type {\n",
       "        vertical-align: middle;\n",
       "    }\n",
       "\n",
       "    .dataframe tbody tr th {\n",
       "        vertical-align: top;\n",
       "    }\n",
       "\n",
       "    .dataframe thead th {\n",
       "        text-align: right;\n",
       "    }\n",
       "</style>\n",
       "<table border=\"1\" class=\"dataframe\">\n",
       "  <thead>\n",
       "    <tr style=\"text-align: right;\">\n",
       "      <th></th>\n",
       "      <th>0</th>\n",
       "    </tr>\n",
       "  </thead>\n",
       "  <tbody>\n",
       "    <tr>\n",
       "      <th>Mlp</th>\n",
       "      <td>0.000225</td>\n",
       "    </tr>\n",
       "    <tr>\n",
       "      <th>SimpleRNN</th>\n",
       "      <td>0.000286</td>\n",
       "    </tr>\n",
       "    <tr>\n",
       "      <th>GRU</th>\n",
       "      <td>0.000108</td>\n",
       "    </tr>\n",
       "    <tr>\n",
       "      <th>LSTM</th>\n",
       "      <td>0.000199</td>\n",
       "    </tr>\n",
       "    <tr>\n",
       "      <th>CNN</th>\n",
       "      <td>0.000167</td>\n",
       "    </tr>\n",
       "  </tbody>\n",
       "</table>\n",
       "</div>"
      ],
      "text/plain": [
       "                  0\n",
       "Mlp        0.000225\n",
       "SimpleRNN  0.000286\n",
       "GRU        0.000108\n",
       "LSTM       0.000199\n",
       "CNN        0.000167"
      ]
     },
     "execution_count": 105,
     "metadata": {},
     "output_type": "execute_result"
    }
   ],
   "source": [
    "result"
   ]
  },
  {
   "cell_type": "code",
   "execution_count": 106,
   "id": "sapphire-transmission",
   "metadata": {
    "colab": {
     "base_uri": "https://localhost:8080/",
     "height": 383
    },
    "id": "HuPGWXDm3o1l",
    "outputId": "9c97d3d1-7b45-4416-bc4c-c885f52094bb"
   },
   "outputs": [
    {
     "data": {
      "text/plain": [
       "<AxesSubplot:>"
      ]
     },
     "execution_count": 106,
     "metadata": {},
     "output_type": "execute_result"
    },
    {
     "data": {
      "image/png": "[encoded data removed]",
      "text/plain": [
       "<Figure size 720x360 with 1 Axes>"
      ]
     },
     "metadata": {
      "needs_background": "light"
     },
     "output_type": "display_data"
    }
   ],
   "source": [
    "result.plot(kind='bar',figsize=(10,5))"
   ]
  }
 ],
 "metadata": {
  "kernelspec": {
   "display_name": "Python 3",
   "language": "python",
   "name": "python3"
  },
  "language_info": {
   "codemirror_mode": {
    "name": "ipython",
    "version": 3
   },
   "file_extension": ".py",
   "mimetype": "text/x-python",
   "name": "python",
   "nbconvert_exporter": "python",
   "pygments_lexer": "ipython3",
   "version": "3.9.1"
  }
 },
 "nbformat": 4,
 "nbformat_minor": 5
}
